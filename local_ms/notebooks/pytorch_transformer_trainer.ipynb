{
 "cells": [
  {
   "cell_type": "code",
   "execution_count": 1,
   "metadata": {
    "id": "rTk268Ljh0sv"
   },
   "outputs": [],
   "source": [
    "%matplotlib inline"
   ]
  },
  {
   "cell_type": "markdown",
   "metadata": {
    "id": "X_OsFOADh0sx"
   },
   "source": [
    "[link text](https://)\n",
    "Sequence-to-Sequence Modeling with nn.Transformer and TorchText\n",
    "===============================================================\n",
    "\n",
    "This is a tutorial on how to train a sequence-to-sequence model\n",
    "that uses the\n",
    "`nn.Transformer <https://pytorch.org/docs/master/nn.html?highlight=nn%20transformer#torch.nn.Transformer>`__ module.\n",
    "\n",
    "PyTorch 1.2 release includes a standard transformer module based on the\n",
    "paper `Attention is All You\n",
    "Need <https://arxiv.org/pdf/1706.03762.pdf>`__. The transformer model\n",
    "has been proved to be superior in quality for many sequence-to-sequence\n",
    "problems while being more parallelizable. The ``nn.Transformer`` module\n",
    "relies entirely on an attention mechanism (another module recently\n",
    "implemented as `nn.MultiheadAttention <https://pytorch.org/docs/master/nn.html?highlight=multiheadattention#torch.nn.MultiheadAttention>`__) to draw global dependencies\n",
    "between input and output. The ``nn.Transformer`` module is now highly\n",
    "modularized such that a single component (like `nn.TransformerEncoder <https://pytorch.org/docs/master/nn.html?highlight=nn%20transformerencoder#torch.nn.TransformerEncoder>`__\n",
    "in this tutorial) can be easily adapted/composed.\n",
    "\n",
    "![](https://github.com/pytorch/tutorials/blob/gh-pages/_downloads/_static/img/transformer_architecture.jpg?raw=1)\n",
    "\n",
    "\n",
    "\n"
   ]
  },
  {
   "cell_type": "code",
   "execution_count": 2,
   "metadata": {
    "id": "DTaNWBsOoPP6"
   },
   "outputs": [],
   "source": [
    "import math\n",
    "import numpy as np\n",
    "import os\n",
    "import sys\n",
    "import time\n",
    "\n",
    "import torch\n",
    "import torch.nn as nn\n",
    "from torchtext.datasets import WikiText2"
   ]
  },
  {
   "cell_type": "code",
   "execution_count": 3,
   "metadata": {},
   "outputs": [
    {
     "name": "stdout",
     "output_type": "stream",
     "text": [
      "3.6.9 (default, Jan 26 2021, 15:33:00) \n",
      "[GCC 8.4.0]\n",
      "/media/homes/msmart/Development/VENVS/HLML2021\n"
     ]
    }
   ],
   "source": [
    "print(sys.version)\n",
    "print(sys.prefix)"
   ]
  },
  {
   "cell_type": "code",
   "execution_count": 4,
   "metadata": {},
   "outputs": [],
   "source": [
    "LOCAL_MS = os.path.dirname(os.path.abspath(''))\n",
    "sys.path.append(LOCAL_MS)\n",
    "\n",
    "from model import TransformerModel, load_model, train, evaluate\n",
    "from model_utils import gen_tokenizer_and_vocab, data_process, batchify, get_batch\n",
    "from settings import BPTT"
   ]
  },
  {
   "cell_type": "markdown",
   "metadata": {},
   "source": [
    "**Handler: Set Device (CUDA)**"
   ]
  },
  {
   "cell_type": "code",
   "execution_count": 29,
   "metadata": {},
   "outputs": [
    {
     "name": "stdout",
     "output_type": "stream",
     "text": [
      "torch.cuda.is_available(): True\n",
      "Device: cuda\n"
     ]
    }
   ],
   "source": [
    "device = torch.device(\"cuda\" if torch.cuda.is_available() else \"cpu\")\n",
    "print('torch.cuda.is_available():', torch.cuda.is_available())\n",
    "print('Device:', device)"
   ]
  },
  {
   "cell_type": "markdown",
   "metadata": {
    "id": "CuLGmhAWoPP6"
   },
   "source": [
    "**Handler: Colab vs. Local Jupyter**"
   ]
  },
  {
   "cell_type": "code",
   "execution_count": 5,
   "metadata": {
    "id": "o-wGlSADoPP7",
    "outputId": "0119af7b-8211-4110-f90c-2d47c5487552"
   },
   "outputs": [
    {
     "name": "stdout",
     "output_type": "stream",
     "text": [
      "Running in colab: False\n",
      "Notebook output dir: output\n"
     ]
    }
   ],
   "source": [
    "IN_COLAB = 'google.colab' in str(get_ipython())\n",
    "\n",
    "if IN_COLAB:\n",
    "    from google.colab import drive\n",
    "    drive.mount('/content/drive')\n",
    "    NOTEBOOK_OUTDIR = 'MyDrive' + os.sep + 'output'\n",
    "    %cd '/content/drive'\n",
    "    TESTMODE = False\n",
    "    batch_size = 64 #32\n",
    "    eval_batch_size = 64 #32\n",
    "    epochs = 50  # The number of epochs\n",
    "else:\n",
    "    NOTEBOOK_OUTDIR = 'output'\n",
    "    TESTMODE = False       # True\n",
    "    if torch.cuda.is_available():\n",
    "        batch_size = 64       # 3, or 64/128 on server gpu\n",
    "        eval_batch_size = 64  # 3, or 64/128 on server gpu\n",
    "    else:\n",
    "        batch_size = 3        # 3 on cpu\n",
    "        eval_batch_size = 3   # 3 on cpu\n",
    "    epochs = 50  # The number of epochs\n",
    "\n",
    "os.makedirs(NOTEBOOK_OUTDIR, exist_ok=True)\n",
    "DATADIR = NOTEBOOK_OUTDIR + os.sep + '.data'\n",
    "\n",
    "print('Running in colab:', IN_COLAB)\n",
    "print('Notebook output dir:', NOTEBOOK_OUTDIR)"
   ]
  },
  {
   "cell_type": "markdown",
   "metadata": {
    "id": "pDoippnch0sy"
   },
   "source": [
    "Define the model\n",
    "----------------\n",
    "\n",
    "\n"
   ]
  },
  {
   "cell_type": "markdown",
   "metadata": {
    "id": "rRsSsFnPh0sz"
   },
   "source": [
    "In this tutorial, we train ``nn.TransformerEncoder`` model on a\n",
    "language modeling task. The language modeling task is to assign a\n",
    "probability for the likelihood of a given word (or a sequence of words)\n",
    "to follow a sequence of words. A sequence of tokens are passed to the embedding\n",
    "layer first, followed by a positional encoding layer to account for the order\n",
    "of the word (see the next paragraph for more details). The\n",
    "``nn.TransformerEncoder`` consists of multiple layers of\n",
    "`nn.TransformerEncoderLayer <https://pytorch.org/docs/master/nn.html?highlight=transformerencoderlayer#torch.nn.TransformerEncoderLayer>`__. Along with the input sequence, a square\n",
    "attention mask is required because the self-attention layers in\n",
    "``nn.TransformerEncoder`` are only allowed to attend the earlier positions in\n",
    "the sequence. For the language modeling task, any tokens on the future\n",
    "positions should be masked. To have the actual words, the output\n",
    "of ``nn.TransformerEncoder`` model is sent to the final Linear\n",
    "layer, which is followed by a log-Softmax function.\n",
    "\n",
    "\n"
   ]
  },
  {
   "cell_type": "markdown",
   "metadata": {
    "id": "p733KjQoh0s0"
   },
   "source": [
    "``PositionalEncoding`` module injects some information about the\n",
    "relative or absolute position of the tokens in the sequence. The\n",
    "positional encodings have the same dimension as the embeddings so that\n",
    "the two can be summed. Here, we use ``sine`` and ``cosine`` functions of\n",
    "different frequencies.\n",
    "\n",
    "\n"
   ]
  },
  {
   "cell_type": "markdown",
   "metadata": {
    "id": "ZO1xVjDAh0s1"
   },
   "source": [
    "Load and batch data\n",
    "-------------------\n",
    "\n",
    "\n"
   ]
  },
  {
   "cell_type": "markdown",
   "metadata": {
    "id": "SFOwEqVNh0s2"
   },
   "source": [
    "This tutorial uses ``torchtext`` to generate Wikitext-2 dataset. The\n",
    "vocab object is built based on the train dataset and is used to numericalize\n",
    "tokens into tensors. Starting from sequential data, the ``batchify()``\n",
    "function arranges the dataset into columns, trimming off any tokens remaining\n",
    "after the data has been divided into batches of size ``batch_size``.\n",
    "For instance, with the alphabet as the sequence (total length of 26)\n",
    "and a batch size of 4, we would divide the alphabet into 4 sequences of\n",
    "length 6:\n",
    "\n",
    "\\begin{align}\\begin{bmatrix}\n",
    "  \\text{A} & \\text{B} & \\text{C} & \\ldots & \\text{X} & \\text{Y} & \\text{Z}\n",
    "  \\end{bmatrix}\n",
    "  \\Rightarrow\n",
    "  \\begin{bmatrix}\n",
    "  \\begin{bmatrix}\\text{A} \\\\ \\text{B} \\\\ \\text{C} \\\\ \\text{D} \\\\ \\text{E} \\\\ \\text{F}\\end{bmatrix} &\n",
    "  \\begin{bmatrix}\\text{G} \\\\ \\text{H} \\\\ \\text{I} \\\\ \\text{J} \\\\ \\text{K} \\\\ \\text{L}\\end{bmatrix} &\n",
    "  \\begin{bmatrix}\\text{M} \\\\ \\text{N} \\\\ \\text{O} \\\\ \\text{P} \\\\ \\text{Q} \\\\ \\text{R}\\end{bmatrix} &\n",
    "  \\begin{bmatrix}\\text{S} \\\\ \\text{T} \\\\ \\text{U} \\\\ \\text{V} \\\\ \\text{W} \\\\ \\text{X}\\end{bmatrix}\n",
    "  \\end{bmatrix}\\end{align}\n",
    "\n",
    "These columns are treated as independent by the model, which means that\n",
    "the dependence of ``G`` and ``F`` can not be learned, but allows more\n",
    "efficient batch processing.\n",
    "\n",
    "\n"
   ]
  },
  {
   "cell_type": "code",
   "execution_count": 8,
   "metadata": {
    "id": "ECcX7oEjh0s2"
   },
   "outputs": [],
   "source": [
    "tokenizer, vocab = gen_tokenizer_and_vocab()\n",
    "\n",
    "train_iter, val_iter, test_iter = WikiText2(root=DATADIR)\n",
    "train_data = data_process(train_iter, vocab, tokenizer)\n",
    "val_data = data_process(val_iter, vocab, tokenizer)\n",
    "test_data = data_process(test_iter, vocab, tokenizer)\n",
    "\n",
    "train_data = batchify(train_data, batch_size, device)\n",
    "val_data = batchify(val_data, eval_batch_size, device)\n",
    "test_data = batchify(test_data, eval_batch_size, device)"
   ]
  },
  {
   "cell_type": "markdown",
   "metadata": {
    "id": "BvxDKBUdoPQD"
   },
   "source": [
    "**Code Testing block: shorten the size of the training data to make training loop quicker**"
   ]
  },
  {
   "cell_type": "code",
   "execution_count": 9,
   "metadata": {
    "id": "v9o2kHSToPQD",
    "outputId": "af1c7833-04e4-42c1-8a1f-d1768ef926b8"
   },
   "outputs": [],
   "source": [
    "data_reduce = 0.05\n",
    "\n",
    "if TESTMODE:\n",
    "    print('TRUNCATING DATA (testmode_ipynb=True)\\nShapes before:')\n",
    "    print(train_data.shape)\n",
    "    print(test_data.shape)\n",
    "    print(val_data.shape)\n",
    "    train_data = train_data[0:int(data_reduce * train_data.shape[0]), :]\n",
    "    test_data = test_data[0:int(data_reduce * test_data.shape[0]), :]\n",
    "    val_data = val_data[0:int(data_reduce * val_data.shape[0]), :]\n",
    "    print('Shapes after:')\n",
    "    print(train_data.shape)\n",
    "    print(test_data.shape)\n",
    "    print(val_data.shape)"
   ]
  },
  {
   "cell_type": "markdown",
   "metadata": {
    "id": "GXmvfbAfh0s3"
   },
   "source": [
    "``get_batch()`` function generates the input and target sequence for\n",
    "the transformer model. It subdivides the source data into chunks of\n",
    "length ``bptt``. For the language modeling task, the model needs the\n",
    "following words as ``Target``. For example, with a ``bptt`` value of 2,\n",
    "we’d get the following two Variables for ``i`` = 0:\n",
    "\n",
    "![](https://github.com/pytorch/tutorials/blob/gh-pages/_downloads/_static/img/transformer_input_target.png?raw=1)\n",
    "\n",
    "\n",
    "It should be noted that the chunks are along dimension 0, consistent\n",
    "with the ``S`` dimension in the Transformer model. The batch dimension\n",
    "``N`` is along dimension 1.\n",
    "\n",
    "\n"
   ]
  },
  {
   "cell_type": "code",
   "execution_count": 10,
   "metadata": {
    "id": "br5Wu4yPh0s4"
   },
   "outputs": [
    {
     "data": {
      "text/plain": [
       "'def get_batch(source, i):\\n    seq_len = min(bptt, len(source) - 1 - i)\\n    data = source[i:i+seq_len]\\n    target = source[i+1:i+1+seq_len].reshape(-1)\\n    return data, target\\n\\n\\ndef get_batch_alt(source, i):\\n    seq_len = min(bptt, len(source) - 1 - i)\\n    data = source[i:i+seq_len]\\n    target_alt = source[i+1:i+1+seq_len]\\n    return data, target_alt'"
      ]
     },
     "execution_count": 10,
     "metadata": {},
     "output_type": "execute_result"
    }
   ],
   "source": [
    "assert BPTT == 35  # TODO override/add flexibility later"
   ]
  },
  {
   "cell_type": "markdown",
   "metadata": {
    "id": "kKYt_D4wh0s4"
   },
   "source": [
    "Initiate an instance\n",
    "--------------------\n",
    "\n",
    "\n"
   ]
  },
  {
   "cell_type": "markdown",
   "metadata": {
    "id": "u_ejvBQ4h0s4"
   },
   "source": [
    "The model is set up with the hyperparameter below. The vocab size is\n",
    "equal to the length of the vocab object.\n",
    "\n",
    "\n"
   ]
  },
  {
   "cell_type": "code",
   "execution_count": 11,
   "metadata": {
    "id": "ElCNW7sWh0s4"
   },
   "outputs": [],
   "source": [
    "ntokens = len(vocab.stoi) # the size of vocabulary\n",
    "\n",
    "# Model 'A'\n",
    "\"\"\"emsize = 200              # embedding dimension\n",
    "nhid = 200                # the dimension of the feedforward network model in nn.TransformerEncoder\n",
    "nlayers = 2               # the number of nn.TransformerEncoderLayer in nn.TransformerEncoder\n",
    "nhead = 2                 # the number of heads in the multiheadattention models\n",
    "dropout = 0.05             # the dropout value\"\"\"\n",
    "\n",
    "# Model 'B'\n",
    "\"\"\"emsize = 512              # embedding dimension\n",
    "nhid = 2048               # the dimension of the feedforward network model in nn.TransformerEncoder\n",
    "nlayers = 12              # the number of nn.TransformerEncoderLayer in nn.TransformerEncoder\n",
    "nhead = 8                 # the number of heads in the multiheadattention models\n",
    "dropout = 0.3             # the dropout value\"\"\"\n",
    "\n",
    "# Model 'C'\n",
    "emsize = 1024              # embedding dimension\n",
    "nhid = 2048               # the dimension of the feedforward network model in nn.TransformerEncoder\n",
    "nlayers = 12              # the number of nn.TransformerEncoderLayer in nn.TransformerEncoder\n",
    "nhead = 16                 # the number of heads in the multiheadattention models\n",
    "dropout = 0.3             # the dropout value\n",
    "\n",
    "model = TransformerModel(ntokens, emsize, nhead, nhid, nlayers, dropout).to(device)"
   ]
  },
  {
   "cell_type": "markdown",
   "metadata": {
    "id": "tmkcIDCvh0s5"
   },
   "source": [
    "Run the model\n",
    "-------------\n",
    "\n",
    "\n"
   ]
  },
  {
   "cell_type": "markdown",
   "metadata": {
    "id": "6N9258vph0s5"
   },
   "source": [
    "`CrossEntropyLoss <https://pytorch.org/docs/master/nn.html?highlight=crossentropyloss#torch.nn.CrossEntropyLoss>`__\n",
    "is applied to track the loss and\n",
    "`SGD <https://pytorch.org/docs/master/optim.html?highlight=sgd#torch.optim.SGD>`__\n",
    "implements stochastic gradient descent method as the optimizer. The initial\n",
    "learning rate is set to 5.0. `StepLR <https://pytorch.org/docs/master/optim.html?highlight=steplr#torch.optim.lr_scheduler.StepLR>`__ is\n",
    "applied to adjust the learn rate through epochs. During the\n",
    "training, we use\n",
    "`nn.utils.clip_grad_norm\\_ <https://pytorch.org/docs/master/nn.html?highlight=nn%20utils%20clip_grad_norm#torch.nn.utils.clip_grad_norm_>`__\n",
    "function to scale all the gradient together to prevent exploding.\n",
    "\n",
    "\n"
   ]
  },
  {
   "cell_type": "code",
   "execution_count": 24,
   "metadata": {
    "id": "hSWQPh_Kh0s5"
   },
   "outputs": [],
   "source": [
    "criterion = nn.CrossEntropyLoss()\n",
    "\n",
    "optimizer_str = 'SGD'\n",
    "valid_optimizer_str = ['SGD', 'adam', 'adamW']\n",
    "\n",
    "assert optimizer_str in valid_optimizer_str\n",
    "scheduler = None\n",
    "if optimizer_str == 'SGD':\n",
    "    lr = 0.5  # learning rate (originally: 5.0, 0.1, 0.5 (best))\n",
    "    optimizer = torch.optim.SGD(model.parameters(), lr=lr)\n",
    "    scheduler = torch.optim.lr_scheduler.StepLR(optimizer, 1.0, gamma=0.95)\n",
    "elif optimizer_str == 'adam':\n",
    "    lr = 3e-5  # default 1e-3, best 1e-4\n",
    "    optimizer = torch.optim.Adam(model.parameters(), lr=lr)\n",
    "    print('TODO: check usage of scheduler with adam -- none for now')\n",
    "else:\n",
    "    assert optimizer_str == 'adamW'\n",
    "    lr = 1e-4  # default 1e-3,best  1e-4\n",
    "    optimizer = torch.optim.AdamW(model.parameters(), lr=lr)\n",
    "    print('TODO: check usage of scheduler with adamW -- none for now')"
   ]
  },
  {
   "cell_type": "markdown",
   "metadata": {
    "id": "rrLNZrMIh0s6"
   },
   "source": [
    "Loop over epochs. Save the model if the validation loss is the best\n",
    "we've seen so far. Adjust the learning rate after each epoch.\n",
    "\n"
   ]
  },
  {
   "cell_type": "code",
   "execution_count": 25,
   "metadata": {
    "id": "QiehSV-toPQG",
    "outputId": "854cb597-ea80-45ef-f809-17b9e9a64e3e",
    "scrolled": true
   },
   "outputs": [
    {
     "name": "stdout",
     "output_type": "stream",
     "text": [
      "| epoch   1 |   200/  915 batches | lr 0.50 | ms/batch 355.47 | loss  4.52 | ppl    91.87\n",
      "| epoch   1 |   400/  915 batches | lr 0.50 | ms/batch 356.24 | loss  4.50 | ppl    89.63\n",
      "| epoch   1 |   600/  915 batches | lr 0.50 | ms/batch 356.85 | loss  4.47 | ppl    87.21\n",
      "| epoch   1 |   800/  915 batches | lr 0.50 | ms/batch 357.19 | loss  4.53 | ppl    92.31\n",
      "-----------------------------------------------------------------------------------------\n",
      "| end of epoch   1 | time: 336.79s | valid loss  5.05 | valid ppl   155.25\n",
      "-----------------------------------------------------------------------------------------\n",
      "| epoch   2 |   200/  915 batches | lr 0.47 | ms/batch 358.69 | loss  4.51 | ppl    91.27\n",
      "| epoch   2 |   400/  915 batches | lr 0.47 | ms/batch 357.16 | loss  4.47 | ppl    87.68\n",
      "| epoch   2 |   600/  915 batches | lr 0.47 | ms/batch 357.20 | loss  4.44 | ppl    85.05\n",
      "| epoch   2 |   800/  915 batches | lr 0.47 | ms/batch 357.45 | loss  4.50 | ppl    89.60\n",
      "-----------------------------------------------------------------------------------------\n",
      "| end of epoch   2 | time: 337.76s | valid loss  5.04 | valid ppl   154.57\n",
      "-----------------------------------------------------------------------------------------\n",
      "| epoch   3 |   200/  915 batches | lr 0.45 | ms/batch 358.48 | loss  4.49 | ppl    89.37\n",
      "| epoch   3 |   400/  915 batches | lr 0.45 | ms/batch 357.28 | loss  4.45 | ppl    85.59\n",
      "| epoch   3 |   600/  915 batches | lr 0.45 | ms/batch 357.04 | loss  4.41 | ppl    82.68\n",
      "| epoch   3 |   800/  915 batches | lr 0.45 | ms/batch 357.42 | loss  4.47 | ppl    87.06\n",
      "-----------------------------------------------------------------------------------------\n",
      "| end of epoch   3 | time: 337.70s | valid loss  5.04 | valid ppl   154.91\n",
      "-----------------------------------------------------------------------------------------\n",
      "| epoch   4 |   200/  915 batches | lr 0.43 | ms/batch 358.97 | loss  4.47 | ppl    87.18\n",
      "| epoch   4 |   400/  915 batches | lr 0.43 | ms/batch 357.24 | loss  4.43 | ppl    83.52\n",
      "| epoch   4 |   600/  915 batches | lr 0.43 | ms/batch 357.13 | loss  4.39 | ppl    80.85\n",
      "| epoch   4 |   800/  915 batches | lr 0.43 | ms/batch 357.26 | loss  4.44 | ppl    84.87\n",
      "-----------------------------------------------------------------------------------------\n",
      "| end of epoch   4 | time: 337.78s | valid loss  5.04 | valid ppl   154.50\n",
      "-----------------------------------------------------------------------------------------\n",
      "| epoch   5 |   200/  915 batches | lr 0.41 | ms/batch 358.54 | loss  4.44 | ppl    85.12\n",
      "| epoch   5 |   400/  915 batches | lr 0.41 | ms/batch 357.21 | loss  4.40 | ppl    81.57\n",
      "| epoch   5 |   600/  915 batches | lr 0.41 | ms/batch 357.26 | loss  4.37 | ppl    78.79\n",
      "| epoch   5 |   800/  915 batches | lr 0.41 | ms/batch 357.23 | loss  4.42 | ppl    82.69\n",
      "-----------------------------------------------------------------------------------------\n",
      "| end of epoch   5 | time: 337.70s | valid loss  5.04 | valid ppl   153.72\n",
      "-----------------------------------------------------------------------------------------\n",
      "| epoch   6 |   200/  915 batches | lr 0.39 | ms/batch 358.87 | loss  4.42 | ppl    83.13\n",
      "| epoch   6 |   400/  915 batches | lr 0.39 | ms/batch 357.24 | loss  4.38 | ppl    79.53\n",
      "| epoch   6 |   600/  915 batches | lr 0.39 | ms/batch 357.36 | loss  4.34 | ppl    76.93\n",
      "| epoch   6 |   800/  915 batches | lr 0.39 | ms/batch 357.14 | loss  4.39 | ppl    80.72\n",
      "-----------------------------------------------------------------------------------------\n",
      "| end of epoch   6 | time: 337.80s | valid loss  5.03 | valid ppl   153.69\n",
      "-----------------------------------------------------------------------------------------\n",
      "| epoch   7 |   200/  915 batches | lr 0.37 | ms/batch 358.63 | loss  4.40 | ppl    81.39\n",
      "| epoch   7 |   400/  915 batches | lr 0.37 | ms/batch 357.17 | loss  4.35 | ppl    77.75\n",
      "| epoch   7 |   600/  915 batches | lr 0.37 | ms/batch 357.47 | loss  4.32 | ppl    75.14\n",
      "| epoch   7 |   800/  915 batches | lr 0.37 | ms/batch 357.10 | loss  4.37 | ppl    78.86\n",
      "-----------------------------------------------------------------------------------------\n",
      "| end of epoch   7 | time: 337.75s | valid loss  5.03 | valid ppl   153.40\n",
      "-----------------------------------------------------------------------------------------\n",
      "| epoch   8 |   200/  915 batches | lr 0.35 | ms/batch 358.82 | loss  4.38 | ppl    79.74\n",
      "| epoch   8 |   400/  915 batches | lr 0.35 | ms/batch 357.19 | loss  4.33 | ppl    76.18\n",
      "| epoch   8 |   600/  915 batches | lr 0.35 | ms/batch 357.47 | loss  4.30 | ppl    73.69\n",
      "| epoch   8 |   800/  915 batches | lr 0.35 | ms/batch 357.38 | loss  4.35 | ppl    77.17\n",
      "-----------------------------------------------------------------------------------------\n",
      "| end of epoch   8 | time: 337.81s | valid loss  5.03 | valid ppl   152.62\n",
      "-----------------------------------------------------------------------------------------\n",
      "| epoch   9 |   200/  915 batches | lr 0.33 | ms/batch 358.76 | loss  4.36 | ppl    77.94\n",
      "| epoch   9 |   400/  915 batches | lr 0.33 | ms/batch 357.04 | loss  4.31 | ppl    74.64\n",
      "| epoch   9 |   600/  915 batches | lr 0.33 | ms/batch 357.06 | loss  4.28 | ppl    72.07\n",
      "| epoch   9 |   800/  915 batches | lr 0.33 | ms/batch 357.18 | loss  4.33 | ppl    75.60\n",
      "-----------------------------------------------------------------------------------------\n",
      "| end of epoch   9 | time: 337.64s | valid loss  5.03 | valid ppl   153.07\n",
      "-----------------------------------------------------------------------------------------\n",
      "| epoch  10 |   200/  915 batches | lr 0.32 | ms/batch 359.01 | loss  4.34 | ppl    76.62\n",
      "| epoch  10 |   400/  915 batches | lr 0.32 | ms/batch 357.20 | loss  4.29 | ppl    73.21\n",
      "| epoch  10 |   600/  915 batches | lr 0.32 | ms/batch 357.05 | loss  4.26 | ppl    70.76\n",
      "| epoch  10 |   800/  915 batches | lr 0.32 | ms/batch 357.02 | loss  4.31 | ppl    74.18\n",
      "-----------------------------------------------------------------------------------------\n",
      "| end of epoch  10 | time: 337.69s | valid loss  5.03 | valid ppl   152.76\n",
      "-----------------------------------------------------------------------------------------\n",
      "| epoch  11 |   200/  915 batches | lr 0.30 | ms/batch 358.82 | loss  4.32 | ppl    75.35\n",
      "| epoch  11 |   400/  915 batches | lr 0.30 | ms/batch 357.12 | loss  4.27 | ppl    71.83\n",
      "| epoch  11 |   600/  915 batches | lr 0.30 | ms/batch 356.99 | loss  4.24 | ppl    69.54\n",
      "| epoch  11 |   800/  915 batches | lr 0.30 | ms/batch 357.29 | loss  4.29 | ppl    72.71\n",
      "-----------------------------------------------------------------------------------------\n",
      "| end of epoch  11 | time: 337.66s | valid loss  5.03 | valid ppl   153.01\n",
      "-----------------------------------------------------------------------------------------\n",
      "| epoch  12 |   200/  915 batches | lr 0.28 | ms/batch 359.04 | loss  4.30 | ppl    73.93\n",
      "| epoch  12 |   400/  915 batches | lr 0.28 | ms/batch 357.04 | loss  4.26 | ppl    70.58\n",
      "| epoch  12 |   600/  915 batches | lr 0.28 | ms/batch 357.10 | loss  4.22 | ppl    68.18\n",
      "| epoch  12 |   800/  915 batches | lr 0.28 | ms/batch 356.98 | loss  4.27 | ppl    71.58\n",
      "-----------------------------------------------------------------------------------------\n",
      "| end of epoch  12 | time: 337.67s | valid loss  5.03 | valid ppl   153.13\n",
      "-----------------------------------------------------------------------------------------\n",
      "| epoch  13 |   200/  915 batches | lr 0.27 | ms/batch 358.83 | loss  4.29 | ppl    72.77\n",
      "| epoch  13 |   400/  915 batches | lr 0.27 | ms/batch 357.01 | loss  4.24 | ppl    69.45\n",
      "| epoch  13 |   600/  915 batches | lr 0.27 | ms/batch 357.14 | loss  4.21 | ppl    67.20\n",
      "| epoch  13 |   800/  915 batches | lr 0.27 | ms/batch 357.14 | loss  4.25 | ppl    70.26\n",
      "-----------------------------------------------------------------------------------------\n",
      "| end of epoch  13 | time: 337.68s | valid loss  5.04 | valid ppl   153.70\n",
      "-----------------------------------------------------------------------------------------\n",
      "| epoch  14 |   200/  915 batches | lr 0.26 | ms/batch 358.80 | loss  4.27 | ppl    71.83\n",
      "| epoch  14 |   400/  915 batches | lr 0.26 | ms/batch 357.08 | loss  4.22 | ppl    68.25\n",
      "| epoch  14 |   600/  915 batches | lr 0.26 | ms/batch 357.09 | loss  4.19 | ppl    65.92\n"
     ]
    },
    {
     "name": "stdout",
     "output_type": "stream",
     "text": [
      "| epoch  14 |   800/  915 batches | lr 0.26 | ms/batch 357.06 | loss  4.24 | ppl    69.10\n",
      "-----------------------------------------------------------------------------------------\n",
      "| end of epoch  14 | time: 337.64s | valid loss  5.03 | valid ppl   152.60\n",
      "-----------------------------------------------------------------------------------------\n",
      "| epoch  15 |   200/  915 batches | lr 0.24 | ms/batch 358.82 | loss  4.26 | ppl    70.51\n",
      "| epoch  15 |   400/  915 batches | lr 0.24 | ms/batch 356.97 | loss  4.21 | ppl    67.45\n",
      "| epoch  15 |   600/  915 batches | lr 0.24 | ms/batch 357.15 | loss  4.18 | ppl    65.08\n",
      "| epoch  15 |   800/  915 batches | lr 0.24 | ms/batch 357.00 | loss  4.22 | ppl    68.26\n",
      "-----------------------------------------------------------------------------------------\n",
      "| end of epoch  15 | time: 337.63s | valid loss  5.03 | valid ppl   152.67\n",
      "-----------------------------------------------------------------------------------------\n",
      "| epoch  16 |   200/  915 batches | lr 0.23 | ms/batch 358.90 | loss  4.24 | ppl    69.55\n",
      "| epoch  16 |   400/  915 batches | lr 0.23 | ms/batch 357.12 | loss  4.20 | ppl    66.45\n",
      "| epoch  16 |   600/  915 batches | lr 0.23 | ms/batch 357.16 | loss  4.16 | ppl    64.13\n",
      "| epoch  16 |   800/  915 batches | lr 0.23 | ms/batch 357.17 | loss  4.21 | ppl    67.31\n",
      "-----------------------------------------------------------------------------------------\n",
      "| end of epoch  16 | time: 337.75s | valid loss  5.03 | valid ppl   152.87\n",
      "-----------------------------------------------------------------------------------------\n",
      "| epoch  17 |   200/  915 batches | lr 0.22 | ms/batch 359.03 | loss  4.23 | ppl    68.58\n",
      "| epoch  17 |   400/  915 batches | lr 0.22 | ms/batch 357.17 | loss  4.18 | ppl    65.29\n",
      "| epoch  17 |   600/  915 batches | lr 0.22 | ms/batch 357.29 | loss  4.15 | ppl    63.30\n",
      "| epoch  17 |   800/  915 batches | lr 0.22 | ms/batch 357.15 | loss  4.19 | ppl    66.21\n",
      "-----------------------------------------------------------------------------------------\n",
      "| end of epoch  17 | time: 337.77s | valid loss  5.03 | valid ppl   153.07\n",
      "-----------------------------------------------------------------------------------------\n",
      "| epoch  18 |   200/  915 batches | lr 0.21 | ms/batch 359.20 | loss  4.22 | ppl    67.78\n",
      "| epoch  18 |   400/  915 batches | lr 0.21 | ms/batch 357.21 | loss  4.17 | ppl    64.67\n",
      "| epoch  18 |   600/  915 batches | lr 0.21 | ms/batch 357.30 | loss  4.14 | ppl    62.59\n",
      "| epoch  18 |   800/  915 batches | lr 0.21 | ms/batch 357.41 | loss  4.18 | ppl    65.49\n",
      "-----------------------------------------------------------------------------------------\n",
      "| end of epoch  18 | time: 337.88s | valid loss  5.03 | valid ppl   153.18\n",
      "-----------------------------------------------------------------------------------------\n",
      "| epoch  19 |   200/  915 batches | lr 0.20 | ms/batch 359.12 | loss  4.21 | ppl    67.10\n",
      "| epoch  19 |   400/  915 batches | lr 0.20 | ms/batch 357.18 | loss  4.15 | ppl    63.64\n",
      "| epoch  19 |   600/  915 batches | lr 0.20 | ms/batch 357.37 | loss  4.12 | ppl    61.74\n",
      "| epoch  19 |   800/  915 batches | lr 0.20 | ms/batch 357.52 | loss  4.17 | ppl    64.71\n",
      "-----------------------------------------------------------------------------------------\n",
      "| end of epoch  19 | time: 337.88s | valid loss  5.03 | valid ppl   152.86\n",
      "-----------------------------------------------------------------------------------------\n",
      "| epoch  20 |   200/  915 batches | lr 0.19 | ms/batch 359.06 | loss  4.19 | ppl    66.26\n",
      "| epoch  20 |   400/  915 batches | lr 0.19 | ms/batch 357.32 | loss  4.14 | ppl    62.98\n",
      "| epoch  20 |   600/  915 batches | lr 0.19 | ms/batch 357.24 | loss  4.11 | ppl    60.93\n",
      "| epoch  20 |   800/  915 batches | lr 0.19 | ms/batch 357.34 | loss  4.16 | ppl    63.81\n",
      "-----------------------------------------------------------------------------------------\n",
      "| end of epoch  20 | time: 337.86s | valid loss  5.03 | valid ppl   153.26\n",
      "-----------------------------------------------------------------------------------------\n",
      "| epoch  21 |   200/  915 batches | lr 0.18 | ms/batch 359.13 | loss  4.18 | ppl    65.45\n",
      "| epoch  21 |   400/  915 batches | lr 0.18 | ms/batch 357.44 | loss  4.13 | ppl    62.28\n",
      "| epoch  21 |   600/  915 batches | lr 0.18 | ms/batch 357.21 | loss  4.10 | ppl    60.44\n",
      "| epoch  21 |   800/  915 batches | lr 0.18 | ms/batch 357.32 | loss  4.15 | ppl    63.39\n",
      "-----------------------------------------------------------------------------------------\n",
      "| end of epoch  21 | time: 337.89s | valid loss  5.03 | valid ppl   153.65\n",
      "-----------------------------------------------------------------------------------------\n",
      "| epoch  22 |   200/  915 batches | lr 0.17 | ms/batch 358.89 | loss  4.17 | ppl    64.84\n",
      "| epoch  22 |   400/  915 batches | lr 0.17 | ms/batch 357.33 | loss  4.12 | ppl    61.82\n",
      "| epoch  22 |   600/  915 batches | lr 0.17 | ms/batch 357.35 | loss  4.09 | ppl    59.79\n",
      "| epoch  22 |   800/  915 batches | lr 0.17 | ms/batch 357.41 | loss  4.14 | ppl    62.61\n",
      "-----------------------------------------------------------------------------------------\n",
      "| end of epoch  22 | time: 337.85s | valid loss  5.03 | valid ppl   153.48\n",
      "-----------------------------------------------------------------------------------------\n",
      "| epoch  23 |   200/  915 batches | lr 0.16 | ms/batch 359.03 | loss  4.16 | ppl    64.15\n",
      "| epoch  23 |   400/  915 batches | lr 0.16 | ms/batch 357.46 | loss  4.11 | ppl    61.17\n",
      "| epoch  23 |   600/  915 batches | lr 0.16 | ms/batch 357.31 | loss  4.08 | ppl    59.13\n",
      "| epoch  23 |   800/  915 batches | lr 0.16 | ms/batch 357.31 | loss  4.13 | ppl    62.08\n",
      "-----------------------------------------------------------------------------------------\n",
      "| end of epoch  23 | time: 337.89s | valid loss  5.03 | valid ppl   153.53\n",
      "-----------------------------------------------------------------------------------------\n",
      "| epoch  24 |   200/  915 batches | lr 0.15 | ms/batch 359.04 | loss  4.15 | ppl    63.71\n",
      "| epoch  24 |   400/  915 batches | lr 0.15 | ms/batch 357.21 | loss  4.11 | ppl    60.65\n",
      "| epoch  24 |   600/  915 batches | lr 0.15 | ms/batch 357.44 | loss  4.07 | ppl    58.57\n",
      "| epoch  24 |   800/  915 batches | lr 0.15 | ms/batch 357.03 | loss  4.12 | ppl    61.55\n",
      "-----------------------------------------------------------------------------------------\n",
      "| end of epoch  24 | time: 337.83s | valid loss  5.04 | valid ppl   154.04\n",
      "-----------------------------------------------------------------------------------------\n",
      "| epoch  25 |   200/  915 batches | lr 0.15 | ms/batch 359.04 | loss  4.14 | ppl    63.02\n",
      "| epoch  25 |   400/  915 batches | lr 0.15 | ms/batch 357.41 | loss  4.10 | ppl    60.08\n",
      "| epoch  25 |   600/  915 batches | lr 0.15 | ms/batch 357.40 | loss  4.07 | ppl    58.33\n",
      "| epoch  25 |   800/  915 batches | lr 0.15 | ms/batch 357.20 | loss  4.11 | ppl    60.96\n",
      "-----------------------------------------------------------------------------------------\n",
      "| end of epoch  25 | time: 337.88s | valid loss  5.04 | valid ppl   154.33\n",
      "-----------------------------------------------------------------------------------------\n",
      "| epoch  26 |   200/  915 batches | lr 0.14 | ms/batch 359.23 | loss  4.13 | ppl    62.48\n",
      "| epoch  26 |   400/  915 batches | lr 0.14 | ms/batch 357.18 | loss  4.09 | ppl    59.58\n",
      "| epoch  26 |   600/  915 batches | lr 0.14 | ms/batch 357.31 | loss  4.06 | ppl    57.95\n",
      "| epoch  26 |   800/  915 batches | lr 0.14 | ms/batch 357.32 | loss  4.10 | ppl    60.42\n",
      "-----------------------------------------------------------------------------------------\n",
      "| end of epoch  26 | time: 337.86s | valid loss  5.04 | valid ppl   153.81\n",
      "-----------------------------------------------------------------------------------------\n",
      "| epoch  27 |   200/  915 batches | lr 0.13 | ms/batch 359.11 | loss  4.13 | ppl    61.93\n",
      "| epoch  27 |   400/  915 batches | lr 0.13 | ms/batch 357.19 | loss  4.08 | ppl    59.04\n",
      "| epoch  27 |   600/  915 batches | lr 0.13 | ms/batch 357.48 | loss  4.05 | ppl    57.34\n",
      "| epoch  27 |   800/  915 batches | lr 0.13 | ms/batch 357.38 | loss  4.09 | ppl    59.88\n",
      "-----------------------------------------------------------------------------------------\n",
      "| end of epoch  27 | time: 337.95s | valid loss  5.04 | valid ppl   154.25\n",
      "-----------------------------------------------------------------------------------------\n"
     ]
    },
    {
     "name": "stdout",
     "output_type": "stream",
     "text": [
      "| epoch  28 |   200/  915 batches | lr 0.13 | ms/batch 359.18 | loss  4.12 | ppl    61.75\n",
      "| epoch  28 |   400/  915 batches | lr 0.13 | ms/batch 357.50 | loss  4.07 | ppl    58.67\n",
      "| epoch  28 |   600/  915 batches | lr 0.13 | ms/batch 357.37 | loss  4.04 | ppl    56.83\n",
      "| epoch  28 |   800/  915 batches | lr 0.13 | ms/batch 357.39 | loss  4.09 | ppl    59.47\n",
      "-----------------------------------------------------------------------------------------\n",
      "| end of epoch  28 | time: 337.97s | valid loss  5.04 | valid ppl   153.83\n",
      "-----------------------------------------------------------------------------------------\n",
      "| epoch  29 |   200/  915 batches | lr 0.12 | ms/batch 359.09 | loss  4.11 | ppl    61.16\n",
      "| epoch  29 |   400/  915 batches | lr 0.12 | ms/batch 357.39 | loss  4.06 | ppl    58.25\n",
      "| epoch  29 |   600/  915 batches | lr 0.12 | ms/batch 357.23 | loss  4.03 | ppl    56.48\n",
      "| epoch  29 |   800/  915 batches | lr 0.12 | ms/batch 357.37 | loss  4.08 | ppl    59.04\n",
      "-----------------------------------------------------------------------------------------\n",
      "| end of epoch  29 | time: 337.90s | valid loss  5.04 | valid ppl   154.15\n",
      "-----------------------------------------------------------------------------------------\n",
      "| epoch  30 |   200/  915 batches | lr 0.11 | ms/batch 358.96 | loss  4.11 | ppl    60.89\n",
      "| epoch  30 |   400/  915 batches | lr 0.11 | ms/batch 357.29 | loss  4.06 | ppl    57.92\n",
      "| epoch  30 |   600/  915 batches | lr 0.11 | ms/batch 357.30 | loss  4.03 | ppl    56.02\n",
      "| epoch  30 |   800/  915 batches | lr 0.11 | ms/batch 357.42 | loss  4.07 | ppl    58.71\n",
      "-----------------------------------------------------------------------------------------\n",
      "| end of epoch  30 | time: 337.84s | valid loss  5.04 | valid ppl   154.04\n",
      "-----------------------------------------------------------------------------------------\n",
      "| epoch  31 |   200/  915 batches | lr 0.11 | ms/batch 359.13 | loss  4.10 | ppl    60.34\n",
      "| epoch  31 |   400/  915 batches | lr 0.11 | ms/batch 357.29 | loss  4.05 | ppl    57.47\n",
      "| epoch  31 |   600/  915 batches | lr 0.11 | ms/batch 357.34 | loss  4.02 | ppl    55.73\n",
      "| epoch  31 |   800/  915 batches | lr 0.11 | ms/batch 357.13 | loss  4.07 | ppl    58.38\n",
      "-----------------------------------------------------------------------------------------\n",
      "| end of epoch  31 | time: 337.85s | valid loss  5.04 | valid ppl   154.50\n",
      "-----------------------------------------------------------------------------------------\n",
      "| epoch  32 |   200/  915 batches | lr 0.10 | ms/batch 359.04 | loss  4.10 | ppl    60.07\n",
      "| epoch  32 |   400/  915 batches | lr 0.10 | ms/batch 357.26 | loss  4.05 | ppl    57.31\n",
      "| epoch  32 |   600/  915 batches | lr 0.10 | ms/batch 357.35 | loss  4.02 | ppl    55.59\n",
      "| epoch  32 |   800/  915 batches | lr 0.10 | ms/batch 357.17 | loss  4.06 | ppl    58.03\n",
      "-----------------------------------------------------------------------------------------\n",
      "| end of epoch  32 | time: 337.84s | valid loss  5.04 | valid ppl   154.25\n",
      "-----------------------------------------------------------------------------------------\n",
      "| epoch  33 |   200/  915 batches | lr 0.10 | ms/batch 359.15 | loss  4.09 | ppl    59.79\n",
      "| epoch  33 |   400/  915 batches | lr 0.10 | ms/batch 357.23 | loss  4.04 | ppl    56.79\n",
      "| epoch  33 |   600/  915 batches | lr 0.10 | ms/batch 357.31 | loss  4.01 | ppl    55.11\n",
      "| epoch  33 |   800/  915 batches | lr 0.10 | ms/batch 357.18 | loss  4.05 | ppl    57.56\n",
      "-----------------------------------------------------------------------------------------\n",
      "| end of epoch  33 | time: 337.85s | valid loss  5.04 | valid ppl   154.43\n",
      "-----------------------------------------------------------------------------------------\n",
      "| epoch  34 |   200/  915 batches | lr 0.09 | ms/batch 359.20 | loss  4.08 | ppl    59.44\n",
      "| epoch  34 |   400/  915 batches | lr 0.09 | ms/batch 357.16 | loss  4.04 | ppl    56.60\n",
      "| epoch  34 |   600/  915 batches | lr 0.09 | ms/batch 357.38 | loss  4.01 | ppl    54.96\n",
      "| epoch  34 |   800/  915 batches | lr 0.09 | ms/batch 357.28 | loss  4.05 | ppl    57.25\n",
      "-----------------------------------------------------------------------------------------\n",
      "| end of epoch  34 | time: 337.84s | valid loss  5.04 | valid ppl   154.33\n",
      "-----------------------------------------------------------------------------------------\n",
      "| epoch  35 |   200/  915 batches | lr 0.09 | ms/batch 359.05 | loss  4.08 | ppl    59.16\n",
      "| epoch  35 |   400/  915 batches | lr 0.09 | ms/batch 357.11 | loss  4.03 | ppl    56.29\n",
      "| epoch  35 |   600/  915 batches | lr 0.09 | ms/batch 357.26 | loss  4.00 | ppl    54.64\n",
      "| epoch  35 |   800/  915 batches | lr 0.09 | ms/batch 357.20 | loss  4.05 | ppl    57.16\n",
      "-----------------------------------------------------------------------------------------\n",
      "| end of epoch  35 | time: 337.77s | valid loss  5.04 | valid ppl   154.23\n",
      "-----------------------------------------------------------------------------------------\n",
      "| epoch  36 |   200/  915 batches | lr 0.08 | ms/batch 359.00 | loss  4.07 | ppl    58.79\n",
      "| epoch  36 |   400/  915 batches | lr 0.08 | ms/batch 357.02 | loss  4.03 | ppl    56.05\n",
      "| epoch  36 |   600/  915 batches | lr 0.08 | ms/batch 357.15 | loss  3.99 | ppl    54.31\n",
      "| epoch  36 |   800/  915 batches | lr 0.08 | ms/batch 357.18 | loss  4.04 | ppl    56.88\n",
      "-----------------------------------------------------------------------------------------\n",
      "| end of epoch  36 | time: 337.72s | valid loss  5.04 | valid ppl   154.13\n",
      "-----------------------------------------------------------------------------------------\n",
      "| epoch  37 |   200/  915 batches | lr 0.08 | ms/batch 358.97 | loss  4.07 | ppl    58.64\n",
      "| epoch  37 |   400/  915 batches | lr 0.08 | ms/batch 357.21 | loss  4.02 | ppl    55.73\n",
      "| epoch  37 |   600/  915 batches | lr 0.08 | ms/batch 357.12 | loss  3.99 | ppl    54.15\n",
      "| epoch  37 |   800/  915 batches | lr 0.08 | ms/batch 357.18 | loss  4.04 | ppl    56.62\n",
      "-----------------------------------------------------------------------------------------\n",
      "| end of epoch  37 | time: 337.74s | valid loss  5.04 | valid ppl   154.30\n",
      "-----------------------------------------------------------------------------------------\n",
      "| epoch  38 |   200/  915 batches | lr 0.07 | ms/batch 359.03 | loss  4.07 | ppl    58.43\n",
      "| epoch  38 |   400/  915 batches | lr 0.07 | ms/batch 357.13 | loss  4.02 | ppl    55.61\n",
      "| epoch  38 |   600/  915 batches | lr 0.07 | ms/batch 357.26 | loss  3.99 | ppl    53.88\n",
      "| epoch  38 |   800/  915 batches | lr 0.07 | ms/batch 357.30 | loss  4.03 | ppl    56.44\n",
      "-----------------------------------------------------------------------------------------\n",
      "| end of epoch  38 | time: 337.79s | valid loss  5.04 | valid ppl   154.27\n",
      "-----------------------------------------------------------------------------------------\n",
      "| epoch  39 |   200/  915 batches | lr 0.07 | ms/batch 358.87 | loss  4.06 | ppl    58.17\n",
      "| epoch  39 |   400/  915 batches | lr 0.07 | ms/batch 357.16 | loss  4.01 | ppl    55.34\n",
      "| epoch  39 |   600/  915 batches | lr 0.07 | ms/batch 357.12 | loss  3.98 | ppl    53.68\n",
      "| epoch  39 |   800/  915 batches | lr 0.07 | ms/batch 357.09 | loss  4.03 | ppl    56.11\n",
      "-----------------------------------------------------------------------------------------\n",
      "| end of epoch  39 | time: 337.69s | valid loss  5.04 | valid ppl   154.57\n",
      "-----------------------------------------------------------------------------------------\n",
      "| epoch  40 |   200/  915 batches | lr 0.07 | ms/batch 358.85 | loss  4.06 | ppl    57.90\n",
      "| epoch  40 |   400/  915 batches | lr 0.07 | ms/batch 357.19 | loss  4.01 | ppl    55.13\n",
      "| epoch  40 |   600/  915 batches | lr 0.07 | ms/batch 357.26 | loss  3.98 | ppl    53.55\n",
      "| epoch  40 |   800/  915 batches | lr 0.07 | ms/batch 357.18 | loss  4.02 | ppl    55.91\n",
      "-----------------------------------------------------------------------------------------\n",
      "| end of epoch  40 | time: 337.74s | valid loss  5.04 | valid ppl   154.76\n",
      "-----------------------------------------------------------------------------------------\n",
      "| epoch  41 |   200/  915 batches | lr 0.06 | ms/batch 358.97 | loss  4.06 | ppl    57.72\n",
      "| epoch  41 |   400/  915 batches | lr 0.06 | ms/batch 357.14 | loss  4.01 | ppl    55.02\n",
      "| epoch  41 |   600/  915 batches | lr 0.06 | ms/batch 357.12 | loss  3.98 | ppl    53.35\n"
     ]
    },
    {
     "name": "stdout",
     "output_type": "stream",
     "text": [
      "| epoch  41 |   800/  915 batches | lr 0.06 | ms/batch 357.10 | loss  4.02 | ppl    55.64\n",
      "-----------------------------------------------------------------------------------------\n",
      "| end of epoch  41 | time: 337.70s | valid loss  5.04 | valid ppl   154.64\n",
      "-----------------------------------------------------------------------------------------\n",
      "| epoch  42 |   200/  915 batches | lr 0.06 | ms/batch 359.25 | loss  4.05 | ppl    57.67\n",
      "| epoch  42 |   400/  915 batches | lr 0.06 | ms/batch 357.23 | loss  4.00 | ppl    54.69\n",
      "| epoch  42 |   600/  915 batches | lr 0.06 | ms/batch 357.24 | loss  3.97 | ppl    53.07\n",
      "| epoch  42 |   800/  915 batches | lr 0.06 | ms/batch 357.24 | loss  4.02 | ppl    55.48\n",
      "-----------------------------------------------------------------------------------------\n",
      "| end of epoch  42 | time: 337.86s | valid loss  5.04 | valid ppl   154.57\n",
      "-----------------------------------------------------------------------------------------\n",
      "| epoch  43 |   200/  915 batches | lr 0.06 | ms/batch 359.09 | loss  4.05 | ppl    57.39\n",
      "| epoch  43 |   400/  915 batches | lr 0.06 | ms/batch 357.23 | loss  4.00 | ppl    54.80\n",
      "| epoch  43 |   600/  915 batches | lr 0.06 | ms/batch 357.32 | loss  3.97 | ppl    52.98\n",
      "| epoch  43 |   800/  915 batches | lr 0.06 | ms/batch 357.29 | loss  4.01 | ppl    55.39\n",
      "-----------------------------------------------------------------------------------------\n",
      "| end of epoch  43 | time: 337.85s | valid loss  5.04 | valid ppl   154.66\n",
      "-----------------------------------------------------------------------------------------\n",
      "| epoch  44 |   200/  915 batches | lr 0.06 | ms/batch 359.17 | loss  4.05 | ppl    57.37\n",
      "| epoch  44 |   400/  915 batches | lr 0.06 | ms/batch 357.18 | loss  4.00 | ppl    54.51\n",
      "| epoch  44 |   600/  915 batches | lr 0.06 | ms/batch 357.22 | loss  3.97 | ppl    52.93\n",
      "| epoch  44 |   800/  915 batches | lr 0.06 | ms/batch 357.22 | loss  4.01 | ppl    55.31\n",
      "-----------------------------------------------------------------------------------------\n",
      "| end of epoch  44 | time: 337.82s | valid loss  5.04 | valid ppl   154.71\n",
      "-----------------------------------------------------------------------------------------\n",
      "| epoch  45 |   200/  915 batches | lr 0.05 | ms/batch 359.02 | loss  4.05 | ppl    57.19\n",
      "| epoch  45 |   400/  915 batches | lr 0.05 | ms/batch 357.34 | loss  4.00 | ppl    54.36\n",
      "| epoch  45 |   600/  915 batches | lr 0.05 | ms/batch 357.38 | loss  3.97 | ppl    52.81\n",
      "| epoch  45 |   800/  915 batches | lr 0.05 | ms/batch 357.27 | loss  4.01 | ppl    55.25\n",
      "-----------------------------------------------------------------------------------------\n",
      "| end of epoch  45 | time: 337.86s | valid loss  5.04 | valid ppl   154.92\n",
      "-----------------------------------------------------------------------------------------\n",
      "| epoch  46 |   200/  915 batches | lr 0.05 | ms/batch 359.06 | loss  4.04 | ppl    57.08\n",
      "| epoch  46 |   400/  915 batches | lr 0.05 | ms/batch 357.33 | loss  3.99 | ppl    54.15\n",
      "| epoch  46 |   600/  915 batches | lr 0.05 | ms/batch 357.24 | loss  3.96 | ppl    52.59\n",
      "| epoch  46 |   800/  915 batches | lr 0.05 | ms/batch 357.37 | loss  4.01 | ppl    54.96\n",
      "-----------------------------------------------------------------------------------------\n",
      "| end of epoch  46 | time: 337.86s | valid loss  5.04 | valid ppl   154.48\n",
      "-----------------------------------------------------------------------------------------\n",
      "| epoch  47 |   200/  915 batches | lr 0.05 | ms/batch 358.97 | loss  4.04 | ppl    56.74\n",
      "| epoch  47 |   400/  915 batches | lr 0.05 | ms/batch 357.28 | loss  3.99 | ppl    54.13\n",
      "| epoch  47 |   600/  915 batches | lr 0.05 | ms/batch 357.39 | loss  3.96 | ppl    52.53\n",
      "| epoch  47 |   800/  915 batches | lr 0.05 | ms/batch 357.32 | loss  4.00 | ppl    54.78\n",
      "-----------------------------------------------------------------------------------------\n",
      "| end of epoch  47 | time: 337.86s | valid loss  5.04 | valid ppl   154.69\n",
      "-----------------------------------------------------------------------------------------\n",
      "| epoch  48 |   200/  915 batches | lr 0.04 | ms/batch 358.92 | loss  4.04 | ppl    56.60\n",
      "| epoch  48 |   400/  915 batches | lr 0.04 | ms/batch 357.29 | loss  3.99 | ppl    53.98\n",
      "| epoch  48 |   600/  915 batches | lr 0.04 | ms/batch 357.27 | loss  3.96 | ppl    52.50\n",
      "| epoch  48 |   800/  915 batches | lr 0.04 | ms/batch 357.15 | loss  4.00 | ppl    54.74\n",
      "-----------------------------------------------------------------------------------------\n",
      "| end of epoch  48 | time: 337.79s | valid loss  5.04 | valid ppl   154.81\n",
      "-----------------------------------------------------------------------------------------\n",
      "| epoch  49 |   200/  915 batches | lr 0.04 | ms/batch 359.11 | loss  4.04 | ppl    56.58\n",
      "| epoch  49 |   400/  915 batches | lr 0.04 | ms/batch 357.34 | loss  3.99 | ppl    54.00\n",
      "| epoch  49 |   600/  915 batches | lr 0.04 | ms/batch 357.32 | loss  3.96 | ppl    52.29\n",
      "| epoch  49 |   800/  915 batches | lr 0.04 | ms/batch 357.56 | loss  4.00 | ppl    54.69\n",
      "-----------------------------------------------------------------------------------------\n",
      "| end of epoch  49 | time: 337.91s | valid loss  5.04 | valid ppl   155.00\n",
      "-----------------------------------------------------------------------------------------\n",
      "| epoch  50 |   200/  915 batches | lr 0.04 | ms/batch 359.23 | loss  4.03 | ppl    56.37\n",
      "| epoch  50 |   400/  915 batches | lr 0.04 | ms/batch 357.13 | loss  3.98 | ppl    53.73\n",
      "| epoch  50 |   600/  915 batches | lr 0.04 | ms/batch 357.41 | loss  3.96 | ppl    52.21\n",
      "| epoch  50 |   800/  915 batches | lr 0.04 | ms/batch 357.28 | loss  4.00 | ppl    54.55\n",
      "-----------------------------------------------------------------------------------------\n",
      "| end of epoch  50 | time: 337.86s | valid loss  5.04 | valid ppl   155.11\n",
      "-----------------------------------------------------------------------------------------\n"
     ]
    }
   ],
   "source": [
    "batch_per_epoch = len(train_data) // BPTT\n",
    "if (len(train_data) - 1) % BPTT != 0:\n",
    "    batch_per_epoch += 1\n",
    "\n",
    "training_ppl_train_fine = np.zeros(epochs * batch_per_epoch)\n",
    "training_ppl_val_coarse = np.zeros(epochs)\n",
    "\n",
    "best_val_loss = float(\"inf\")\n",
    "best_model = None\n",
    "\n",
    "for epoch in range(1, epochs + 1):\n",
    "    epoch_start_time = time.time()\n",
    "    loss_per_batch = train(model, device, train_data, ntokens, optimizer, criterion, epoch, scheduler=scheduler)\n",
    "    \n",
    "    # print validation loss info each epoch\n",
    "    validation_loss = evaluate(model, val_data, device, ntokens, criterion)\n",
    "    validation_ppl = math.exp(validation_loss)\n",
    "    print('-' * 89)\n",
    "    print('| end of epoch {:3d} | time: {:5.2f}s | valid loss {:5.2f} | '\n",
    "          'valid ppl {:8.2f}'.format(epoch, (time.time() - epoch_start_time),\n",
    "                                     validation_loss, validation_ppl))\n",
    "    print('-' * 89)\n",
    "    \n",
    "    # store loss info\n",
    "    training_ppl_val_coarse[epoch-1] = validation_ppl\n",
    "    training_ppl_train_fine[(epoch-1) * batch_per_epoch: (epoch)*batch_per_epoch] = np.exp(loss_per_batch)\n",
    "    \n",
    "    # save best model so far\n",
    "    if validation_loss < best_val_loss:\n",
    "        best_val_loss = validation_loss\n",
    "        torch.save(model.state_dict(), NOTEBOOK_OUTDIR + os.sep + 'bestval_model_weights.pth')\n",
    "        torch.save(model, NOTEBOOK_OUTDIR + os.sep + 'bestval_model.pth')\n",
    "    if scheduler is not None:\n",
    "        scheduler.step()"
   ]
  },
  {
   "cell_type": "markdown",
   "metadata": {},
   "source": [
    "**Save Model**\n",
    "\n",
    "Approach 1: save model weights,\n",
    "load as: \n",
    "\n",
    "  `model.load_state_dict(torch.load('model_weights.pth'))`    \n",
    "  `model.eval()`\n",
    "  \n",
    "Approach 2: save model class object entirely (uses pickle),\n",
    "load as: \n",
    "  `model = torch.load('model.pth')`"
   ]
  },
  {
   "cell_type": "code",
   "execution_count": 26,
   "metadata": {},
   "outputs": [],
   "source": [
    "torch.save(model.state_dict(), NOTEBOOK_OUTDIR + os.sep + 'end_model_weights.pth')\n",
    "torch.save(model, NOTEBOOK_OUTDIR + os.sep + 'end_model.pth')"
   ]
  },
  {
   "cell_type": "markdown",
   "metadata": {
    "id": "zJhCBOg1h0s6"
   },
   "source": [
    "Evaluate the model with the test dataset\n",
    "-------------------------------------\n",
    "\n",
    "Assess the model from the end of training (last epoch) on test set."
   ]
  },
  {
   "cell_type": "code",
   "execution_count": 27,
   "metadata": {
    "colab": {
     "base_uri": "https://localhost:8080/"
    },
    "executionInfo": {
     "elapsed": 3804,
     "status": "ok",
     "timestamp": 1622775216924,
     "user": {
      "displayName": "Matthew Smart",
      "photoUrl": "",
      "userId": "06726801805653264331"
     },
     "user_tz": 240
    },
    "id": "zL_3xrzEh0s6",
    "outputId": "7aa7d3a8-e176-47a8-ea5e-9620ea371c71"
   },
   "outputs": [
    {
     "name": "stdout",
     "output_type": "stream",
     "text": [
      "=========================================================================================\n",
      "| End of training | train loss  3.53 | train ppl    34.17\n",
      "=========================================================================================\n",
      "=========================================================================================\n",
      "| End of training | val loss  5.04 | val ppl   155.11\n",
      "=========================================================================================\n",
      "=========================================================================================\n",
      "| End of training | test loss  4.97 | test ppl   144.62\n",
      "=========================================================================================\n"
     ]
    }
   ],
   "source": [
    "datachoices = {'train': train_data, \n",
    "               'val': val_data,\n",
    "               'test': test_data}\n",
    "\n",
    "for datalabel in ['train', 'val', 'test']:\n",
    "    data_loss = evaluate(model, datachoices[datalabel], device, ntokens, criterion)\n",
    "    print('=' * 89)\n",
    "    print('| End of training | {} loss {:5.2f} | {} ppl {:8.2f}'.format(\n",
    "        datalabel, data_loss, datalabel, math.exp(data_loss)))\n",
    "    print('=' * 89)"
   ]
  },
  {
   "cell_type": "markdown",
   "metadata": {},
   "source": [
    "Load the best model (lowest validation loss) to check the result with the test dataset."
   ]
  },
  {
   "cell_type": "code",
   "execution_count": 28,
   "metadata": {},
   "outputs": [
    {
     "name": "stdout",
     "output_type": "stream",
     "text": [
      "=========================================================================================\n",
      "| End of training | train loss  3.87 | train ppl    47.84\n",
      "=========================================================================================\n",
      "=========================================================================================\n",
      "| End of training | val loss  5.03 | val ppl   152.60\n",
      "=========================================================================================\n",
      "=========================================================================================\n",
      "| End of training | test loss  4.96 | test ppl   142.28\n",
      "=========================================================================================\n"
     ]
    }
   ],
   "source": [
    "best_model = load_model(NOTEBOOK_OUTDIR + os.sep + 'bestval_model.pth',\n",
    "                        device, \n",
    "                        as_pickle=True)\n",
    "\n",
    "datachoices = {'train': train_data, \n",
    "               'val': val_data,\n",
    "               'test': test_data}\n",
    "\n",
    "for datalabel in ['train', 'val', 'test']:\n",
    "    data_loss = evaluate(best_model, datachoices[datalabel], device, ntokens, criterion)\n",
    "    print('=' * 89)\n",
    "    print('| End of training | {} loss {:5.2f} | {} ppl {:8.2f}'.format(\n",
    "        datalabel, data_loss, datalabel, math.exp(data_loss)))\n",
    "    print('=' * 89)"
   ]
  },
  {
   "cell_type": "markdown",
   "metadata": {
    "id": "SQikQeFBoPQI"
   },
   "source": [
    "# Plot training timeseries"
   ]
  },
  {
   "cell_type": "code",
   "execution_count": 17,
   "metadata": {
    "id": "TG5T326ioPQI",
    "outputId": "64954352-eb06-4150-ac4d-ee4d18661eea"
   },
   "outputs": [],
   "source": [
    "np.savetxt(NOTEBOOK_OUTDIR + os.sep + 'training_ppl_train_fine.txt', training_ppl_train_fine)\n",
    "np.savetxt(NOTEBOOK_OUTDIR + os.sep + 'training_ppl_val_coarse.txt', training_ppl_val_coarse)"
   ]
  },
  {
   "cell_type": "code",
   "execution_count": 18,
   "metadata": {
    "id": "_qp7e1uToPQI",
    "scrolled": true
   },
   "outputs": [],
   "source": [
    "import matplotlib.pyplot as plt\n",
    "\n",
    "epochs_axis = np.arange(1, epochs + 1)\n",
    "epochs_axis_fine = np.linspace(0, epochs, epochs * batch_per_epoch + 1)[:-1]\n",
    "\n",
    "def plot_training_timeseries(fname='training_performance', ext='.jpg', logy=True, xlims=None, ylims=None):\n",
    "\n",
    "    plt.figure(figsize=(8,6))\n",
    "    plt.plot(epochs_axis, training_ppl_val_coarse, '--ok', label='val', zorder=2)\n",
    "    plt.plot(epochs_axis_fine, training_ppl_train_fine, 'b', label='train', zorder=1, alpha=0.5)\n",
    "    plt.xlabel('epoch')\n",
    "    plt.ylabel('ppl (validation set)')\n",
    "    plt.legend()\n",
    "    if logy:\n",
    "        plt.yscale('log')\n",
    "        fname += '_logy'\n",
    "    if xlims is not None:\n",
    "        plt.xlim(xlims[0], xlims[1])\n",
    "    if ylims is not None:\n",
    "        plt.ylim(ylims[0], ylims[1])\n",
    "    plt.savefig(NOTEBOOK_OUTDIR + os.sep + fname + ext)\n",
    "    plt.show()"
   ]
  },
  {
   "cell_type": "code",
   "execution_count": 19,
   "metadata": {
    "id": "VkwIdFDUoPQI",
    "outputId": "bf37757d-5ad1-42b8-dee3-f21a53136c1f"
   },
   "outputs": [
    {
     "data": {
      "image/png": "[encoded data removed]",
      "text/plain": [
       "<Figure size 576x432 with 1 Axes>"
      ]
     },
     "metadata": {
      "needs_background": "light"
     },
     "output_type": "display_data"
    },
    {
     "data": {
      "image/png": "[encoded data removed]",
      "text/plain": [
       "<Figure size 576x432 with 1 Axes>"
      ]
     },
     "metadata": {
      "needs_background": "light"
     },
     "output_type": "display_data"
    }
   ],
   "source": [
    "plot_training_timeseries(logy=True)\n",
    "plot_training_timeseries(logy=False, ylims=(0, np.max(training_ppl_val_coarse) * 1.2))"
   ]
  },
  {
   "cell_type": "code",
   "execution_count": 20,
   "metadata": {
    "id": "lPE-PdGZoPQJ",
    "outputId": "b5176056-e800-47e3-800b-ef9ad64e289f"
   },
   "outputs": [
    {
     "name": "stdout",
     "output_type": "stream",
     "text": [
      "Epoch after which validation loss is minimized (defines best_model): 50\n"
     ]
    }
   ],
   "source": [
    "print('Epoch after which validation loss is minimized (defines best_model):', np.argmin(training_ppl_val_coarse) + 1)"
   ]
  },
  {
   "cell_type": "code",
   "execution_count": null,
   "metadata": {
    "id": "b9bCsWNnoPQJ"
   },
   "outputs": [],
   "source": []
  }
 ],
 "metadata": {
  "accelerator": "GPU",
  "colab": {
   "collapsed_sections": [],
   "name": "pytorch_transformer_trainer.ipynb",
   "provenance": [
    {
     "file_id": "https://github.com/pytorch/tutorials/blob/gh-pages/_downloads/dca13261bbb4e9809d1a3aa521d22dd7/transformer_tutorial.ipynb",
     "timestamp": 1622001366637
    }
   ]
  },
  "kernelspec": {
   "display_name": "Python 3",
   "language": "python",
   "name": "python3"
  },
  "language_info": {
   "codemirror_mode": {
    "name": "ipython",
    "version": 3
   },
   "file_extension": ".py",
   "mimetype": "text/x-python",
   "name": "python",
   "nbconvert_exporter": "python",
   "pygments_lexer": "ipython3",
   "version": "3.8.7"
  }
 },
 "nbformat": 4,
 "nbformat_minor": 1
}
