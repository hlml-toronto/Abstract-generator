{
 "cells": [
  {
   "cell_type": "code",
   "execution_count": 1,
   "metadata": {
    "id": "rTk268Ljh0sv"
   },
   "outputs": [],
   "source": [
    "%matplotlib inline"
   ]
  },
  {
   "cell_type": "markdown",
   "metadata": {
    "id": "X_OsFOADh0sx"
   },
   "source": [
    "[link text](https://)\n",
    "Sequence-to-Sequence Modeling with nn.Transformer and TorchText\n",
    "===============================================================\n",
    "\n",
    "This is a tutorial on how to train a sequence-to-sequence model\n",
    "that uses the\n",
    "`nn.Transformer <https://pytorch.org/docs/master/nn.html?highlight=nn%20transformer#torch.nn.Transformer>`__ module.\n",
    "\n",
    "PyTorch 1.2 release includes a standard transformer module based on the\n",
    "paper `Attention is All You\n",
    "Need <https://arxiv.org/pdf/1706.03762.pdf>`__. The transformer model\n",
    "has been proved to be superior in quality for many sequence-to-sequence\n",
    "problems while being more parallelizable. The ``nn.Transformer`` module\n",
    "relies entirely on an attention mechanism (another module recently\n",
    "implemented as `nn.MultiheadAttention <https://pytorch.org/docs/master/nn.html?highlight=multiheadattention#torch.nn.MultiheadAttention>`__) to draw global dependencies\n",
    "between input and output. The ``nn.Transformer`` module is now highly\n",
    "modularized such that a single component (like `nn.TransformerEncoder <https://pytorch.org/docs/master/nn.html?highlight=nn%20transformerencoder#torch.nn.TransformerEncoder>`__\n",
    "in this tutorial) can be easily adapted/composed.\n",
    "\n",
    "![](https://github.com/pytorch/tutorials/blob/gh-pages/_downloads/_static/img/transformer_architecture.jpg?raw=1)\n",
    "\n",
    "\n",
    "\n"
   ]
  },
  {
   "cell_type": "code",
   "execution_count": 2,
   "metadata": {},
   "outputs": [],
   "source": [
    "import math\n",
    "import numpy as np\n",
    "import os\n",
    "import time\n",
    "\n",
    "import torch"
   ]
  },
  {
   "cell_type": "markdown",
   "metadata": {},
   "source": [
    "**Handler: Colab vs. Local Jupyter**"
   ]
  },
  {
   "cell_type": "code",
   "execution_count": 3,
   "metadata": {},
   "outputs": [
    {
     "name": "stdout",
     "output_type": "stream",
     "text": [
      "Running in colab: False\n",
      "Notebook output dir: nbdata\n"
     ]
    }
   ],
   "source": [
    "IN_COLAB = 'google.colab' in str(get_ipython())\n",
    "\n",
    "if IN_COLAB:\n",
    "    from google.colab import drive\n",
    "    drive.mount('/content/drive')\n",
    "    NOTEBOOK_OUTDIR = \"MyDrive\" \n",
    "    cd /content/drive\n",
    "else:\n",
    "    NOTEBOOK_OUTDIR = 'output'\n",
    "    os.makedirs(NOTEBOOK_OUTDIR, exist_ok=True)\n",
    "\n",
    "print('Running in colab:', IN_COLAB)\n",
    "print('Notebook output dir:', NOTEBOOK_OUTDIR)"
   ]
  },
  {
   "cell_type": "markdown",
   "metadata": {},
   "source": [
    "**Handler: Set Device (CUDA)**"
   ]
  },
  {
   "cell_type": "code",
   "execution_count": 4,
   "metadata": {},
   "outputs": [
    {
     "name": "stdout",
     "output_type": "stream",
     "text": [
      "torch.cuda.is_available(): False\n",
      "Device: cpu\n"
     ]
    }
   ],
   "source": [
    "device = torch.device(\"cuda\" if torch.cuda.is_available() else \"cpu\")\n",
    "print('torch.cuda.is_available():', torch.cuda.is_available())\n",
    "print('Device:', device)"
   ]
  },
  {
   "cell_type": "markdown",
   "metadata": {
    "id": "pDoippnch0sy"
   },
   "source": [
    "Define the model\n",
    "----------------\n",
    "\n",
    "\n"
   ]
  },
  {
   "cell_type": "markdown",
   "metadata": {
    "id": "rRsSsFnPh0sz"
   },
   "source": [
    "In this tutorial, we train ``nn.TransformerEncoder`` model on a\n",
    "language modeling task. The language modeling task is to assign a\n",
    "probability for the likelihood of a given word (or a sequence of words)\n",
    "to follow a sequence of words. A sequence of tokens are passed to the embedding\n",
    "layer first, followed by a positional encoding layer to account for the order\n",
    "of the word (see the next paragraph for more details). The\n",
    "``nn.TransformerEncoder`` consists of multiple layers of\n",
    "`nn.TransformerEncoderLayer <https://pytorch.org/docs/master/nn.html?highlight=transformerencoderlayer#torch.nn.TransformerEncoderLayer>`__. Along with the input sequence, a square\n",
    "attention mask is required because the self-attention layers in\n",
    "``nn.TransformerEncoder`` are only allowed to attend the earlier positions in\n",
    "the sequence. For the language modeling task, any tokens on the future\n",
    "positions should be masked. To have the actual words, the output\n",
    "of ``nn.TransformerEncoder`` model is sent to the final Linear\n",
    "layer, which is followed by a log-Softmax function.\n",
    "\n",
    "\n"
   ]
  },
  {
   "cell_type": "code",
   "execution_count": 5,
   "metadata": {
    "id": "HQ0YNozvh0sz"
   },
   "outputs": [],
   "source": [
    "import torch.nn as nn\n",
    "import torch.nn.functional as F\n",
    "from torch.nn import TransformerEncoder, TransformerEncoderLayer\n",
    "\n",
    "class TransformerModel(nn.Module):\n",
    "\n",
    "    def __init__(self, ntoken, ninp, nhead, nhid, nlayers, dropout=0.5):\n",
    "        super(TransformerModel, self).__init__()\n",
    "        self.model_type = 'Transformer'\n",
    "        self.pos_encoder = PositionalEncoding(ninp, dropout)\n",
    "        encoder_layers = TransformerEncoderLayer(ninp, nhead, nhid, dropout)\n",
    "        self.transformer_encoder = TransformerEncoder(encoder_layers, nlayers)\n",
    "        self.encoder = nn.Embedding(ntoken, ninp)\n",
    "        self.ninp = ninp\n",
    "        self.decoder = nn.Linear(ninp, ntoken)\n",
    "\n",
    "        self.init_weights()\n",
    "\n",
    "    def generate_square_subsequent_mask(self, sz):\n",
    "        mask = (torch.triu(torch.ones(sz, sz)) == 1).transpose(0, 1)\n",
    "        mask = mask.float().masked_fill(mask == 0, float('-inf')).masked_fill(mask == 1, float(0.0))\n",
    "        return mask\n",
    "\n",
    "    def init_weights(self):\n",
    "        initrange = 0.1\n",
    "        self.encoder.weight.data.uniform_(-initrange, initrange)\n",
    "        self.decoder.bias.data.zero_()\n",
    "        self.decoder.weight.data.uniform_(-initrange, initrange)\n",
    "\n",
    "    def forward(self, src, src_mask):\n",
    "        src = self.encoder(src) * math.sqrt(self.ninp)\n",
    "        src = self.pos_encoder(src)\n",
    "        output = self.transformer_encoder(src, src_mask)\n",
    "        output = self.decoder(output)\n",
    "        return output"
   ]
  },
  {
   "cell_type": "markdown",
   "metadata": {
    "id": "p733KjQoh0s0"
   },
   "source": [
    "``PositionalEncoding`` module injects some information about the\n",
    "relative or absolute position of the tokens in the sequence. The\n",
    "positional encodings have the same dimension as the embeddings so that\n",
    "the two can be summed. Here, we use ``sine`` and ``cosine`` functions of\n",
    "different frequencies.\n",
    "\n",
    "\n"
   ]
  },
  {
   "cell_type": "code",
   "execution_count": 6,
   "metadata": {
    "id": "UGdfZ8ixh0s1"
   },
   "outputs": [],
   "source": [
    "class PositionalEncoding(nn.Module):\n",
    "\n",
    "    def __init__(self, d_model, dropout=0.1, max_len=5000):\n",
    "        super(PositionalEncoding, self).__init__()\n",
    "        self.dropout = nn.Dropout(p=dropout)\n",
    "\n",
    "        pe = torch.zeros(max_len, d_model)\n",
    "        position = torch.arange(0, max_len, dtype=torch.float).unsqueeze(1)\n",
    "        div_term = torch.exp(torch.arange(0, d_model, 2).float() * (-math.log(10000.0) / d_model))\n",
    "        pe[:, 0::2] = torch.sin(position * div_term)\n",
    "        pe[:, 1::2] = torch.cos(position * div_term)\n",
    "        pe = pe.unsqueeze(0).transpose(0, 1)\n",
    "        self.register_buffer('pe', pe)\n",
    "\n",
    "    def forward(self, x):\n",
    "        x = x + self.pe[:x.size(0), :]\n",
    "        return self.dropout(x)"
   ]
  },
  {
   "cell_type": "markdown",
   "metadata": {
    "id": "ZO1xVjDAh0s1"
   },
   "source": [
    "Load and batch data\n",
    "-------------------\n",
    "\n",
    "\n"
   ]
  },
  {
   "cell_type": "markdown",
   "metadata": {
    "id": "SFOwEqVNh0s2"
   },
   "source": [
    "This tutorial uses ``torchtext`` to generate Wikitext-2 dataset. The\n",
    "vocab object is built based on the train dataset and is used to numericalize\n",
    "tokens into tensors. Starting from sequential data, the ``batchify()``\n",
    "function arranges the dataset into columns, trimming off any tokens remaining\n",
    "after the data has been divided into batches of size ``batch_size``.\n",
    "For instance, with the alphabet as the sequence (total length of 26)\n",
    "and a batch size of 4, we would divide the alphabet into 4 sequences of\n",
    "length 6:\n",
    "\n",
    "\\begin{align}\\begin{bmatrix}\n",
    "  \\text{A} & \\text{B} & \\text{C} & \\ldots & \\text{X} & \\text{Y} & \\text{Z}\n",
    "  \\end{bmatrix}\n",
    "  \\Rightarrow\n",
    "  \\begin{bmatrix}\n",
    "  \\begin{bmatrix}\\text{A} \\\\ \\text{B} \\\\ \\text{C} \\\\ \\text{D} \\\\ \\text{E} \\\\ \\text{F}\\end{bmatrix} &\n",
    "  \\begin{bmatrix}\\text{G} \\\\ \\text{H} \\\\ \\text{I} \\\\ \\text{J} \\\\ \\text{K} \\\\ \\text{L}\\end{bmatrix} &\n",
    "  \\begin{bmatrix}\\text{M} \\\\ \\text{N} \\\\ \\text{O} \\\\ \\text{P} \\\\ \\text{Q} \\\\ \\text{R}\\end{bmatrix} &\n",
    "  \\begin{bmatrix}\\text{S} \\\\ \\text{T} \\\\ \\text{U} \\\\ \\text{V} \\\\ \\text{W} \\\\ \\text{X}\\end{bmatrix}\n",
    "  \\end{bmatrix}\\end{align}\n",
    "\n",
    "These columns are treated as independent by the model, which means that\n",
    "the dependence of ``G`` and ``F`` can not be learned, but allows more\n",
    "efficient batch processing.\n",
    "\n",
    "\n"
   ]
  },
  {
   "cell_type": "code",
   "execution_count": 7,
   "metadata": {
    "colab": {
     "base_uri": "https://localhost:8080/"
    },
    "executionInfo": {
     "elapsed": 15537,
     "status": "ok",
     "timestamp": 1622761734210,
     "user": {
      "displayName": "Matthew Smart",
      "photoUrl": "",
      "userId": "06726801805653264331"
     },
     "user_tz": 240
    },
    "id": "ECcX7oEjh0s2",
    "outputId": "9b49c451-90db-45ea-f232-1efb1cc54bf4"
   },
   "outputs": [],
   "source": [
    "import io\n",
    "import torch\n",
    "from torchtext.datasets import WikiText2\n",
    "from torchtext.data.utils import get_tokenizer\n",
    "from collections import Counter\n",
    "from torchtext.vocab import Vocab\n",
    "\n",
    "train_iter = WikiText2(split='train')\n",
    "tokenizer = get_tokenizer('basic_english')\n",
    "counter = Counter()\n",
    "for line in train_iter:\n",
    "    counter.update(tokenizer(line))\n",
    "vocab = Vocab(counter)\n",
    "\n",
    "def data_process(raw_text_iter):\n",
    "  data = [torch.tensor([vocab[token] for token in tokenizer(item)],\n",
    "                       dtype=torch.long) for item in raw_text_iter]\n",
    "  return torch.cat(tuple(filter(lambda t: t.numel() > 0, data)))\n",
    "\n",
    "train_iter, val_iter, test_iter = WikiText2()\n",
    "train_data = data_process(train_iter)\n",
    "val_data = data_process(val_iter)\n",
    "test_data = data_process(test_iter)\n",
    "\n",
    "def batchify(data, bsz):\n",
    "    # Divide the dataset into bsz parts.\n",
    "    nbatch = data.size(0) // bsz\n",
    "    # Trim off any extra elements that wouldn't cleanly fit (remainders).\n",
    "    data = data.narrow(0, 0, nbatch * bsz)\n",
    "    # Evenly divide the data across the bsz batches.\n",
    "    data = data.view(bsz, -1).t().contiguous()\n",
    "    return data.to(device)\n",
    "\n",
    "batch_size = 32\n",
    "eval_batch_size = 32\n",
    "train_data = batchify(train_data, batch_size)\n",
    "val_data = batchify(val_data, eval_batch_size)\n",
    "test_data = batchify(test_data, eval_batch_size)"
   ]
  },
  {
   "cell_type": "markdown",
   "metadata": {},
   "source": [
    "**Code Testing block: shorten the size of the training data to make training loop quicker**"
   ]
  },
  {
   "cell_type": "code",
   "execution_count": 8,
   "metadata": {},
   "outputs": [
    {
     "name": "stdout",
     "output_type": "stream",
     "text": [
      "TRUNCATING DATA (testmode_ipynb=True)\n",
      "Shapes before:\n",
      "torch.Size([204999, 10])\n",
      "torch.Size([24185, 10])\n",
      "torch.Size([21441, 10])\n",
      "Shapes after:\n",
      "torch.Size([10249, 10])\n",
      "torch.Size([1209, 10])\n",
      "torch.Size([1072, 10])\n"
     ]
    }
   ],
   "source": [
    "testmode_ipynb = True\n",
    "data_reduce = 0.05\n",
    "\n",
    "if testmode_ipynb:\n",
    "    print('TRUNCATING DATA (testmode_ipynb=True)\\nShapes before:')\n",
    "    print(train_data.shape)\n",
    "    print(test_data.shape)\n",
    "    print(val_data.shape)\n",
    "    train_data = train_data[0:int(data_reduce * train_data.shape[0]), :]\n",
    "    test_data = test_data[0:int(data_reduce * test_data.shape[0]), :]\n",
    "    val_data = val_data[0:int(data_reduce * val_data.shape[0]), :]\n",
    "    print('Shapes after:')\n",
    "    print(train_data.shape)\n",
    "    print(test_data.shape)\n",
    "    print(val_data.shape)\n"
   ]
  },
  {
   "cell_type": "markdown",
   "metadata": {
    "id": "GXmvfbAfh0s3"
   },
   "source": [
    "``get_batch()`` function generates the input and target sequence for\n",
    "the transformer model. It subdivides the source data into chunks of\n",
    "length ``bptt``. For the language modeling task, the model needs the\n",
    "following words as ``Target``. For example, with a ``bptt`` value of 2,\n",
    "we’d get the following two Variables for ``i`` = 0:\n",
    "\n",
    "![](https://github.com/pytorch/tutorials/blob/gh-pages/_downloads/_static/img/transformer_input_target.png?raw=1)\n",
    "\n",
    "\n",
    "It should be noted that the chunks are along dimension 0, consistent\n",
    "with the ``S`` dimension in the Transformer model. The batch dimension\n",
    "``N`` is along dimension 1.\n",
    "\n",
    "\n"
   ]
  },
  {
   "cell_type": "code",
   "execution_count": 9,
   "metadata": {
    "id": "br5Wu4yPh0s4"
   },
   "outputs": [],
   "source": [
    "bptt = 35\n",
    "def get_batch(source, i):\n",
    "    seq_len = min(bptt, len(source) - 1 - i)\n",
    "    data = source[i:i+seq_len]\n",
    "    target = source[i+1:i+1+seq_len].reshape(-1)\n",
    "    return data, target\n",
    "\n",
    "def get_batch_alt(source, i):\n",
    "    seq_len = min(bptt, len(source) - 1 - i)\n",
    "    data = source[i:i+seq_len]\n",
    "    target_alt = source[i+1:i+1+seq_len]\n",
    "    return data, target_alt"
   ]
  },
  {
   "cell_type": "markdown",
   "metadata": {
    "id": "kKYt_D4wh0s4"
   },
   "source": [
    "Initiate an instance\n",
    "--------------------\n",
    "\n",
    "\n"
   ]
  },
  {
   "cell_type": "markdown",
   "metadata": {
    "id": "u_ejvBQ4h0s4"
   },
   "source": [
    "The model is set up with the hyperparameter below. The vocab size is\n",
    "equal to the length of the vocab object.\n",
    "\n",
    "\n"
   ]
  },
  {
   "cell_type": "code",
   "execution_count": 10,
   "metadata": {
    "id": "ElCNW7sWh0s4"
   },
   "outputs": [],
   "source": [
    "ntokens = len(vocab.stoi) # the size of vocabulary\n",
    "emsize = 200              # embedding dimension\n",
    "nhid = 200                # the dimension of the feedforward network model in nn.TransformerEncoder\n",
    "nlayers = 2               # the number of nn.TransformerEncoderLayer in nn.TransformerEncoder\n",
    "nhead = 2                 # the number of heads in the multiheadattention models\n",
    "dropout = 0.2             # the dropout value\n",
    "model = TransformerModel(ntokens, emsize, nhead, nhid, nlayers, dropout).to(device)"
   ]
  },
  {
   "cell_type": "markdown",
   "metadata": {
    "id": "tmkcIDCvh0s5"
   },
   "source": [
    "Run the model\n",
    "-------------\n",
    "\n",
    "\n"
   ]
  },
  {
   "cell_type": "markdown",
   "metadata": {
    "id": "6N9258vph0s5"
   },
   "source": [
    "`CrossEntropyLoss <https://pytorch.org/docs/master/nn.html?highlight=crossentropyloss#torch.nn.CrossEntropyLoss>`__\n",
    "is applied to track the loss and\n",
    "`SGD <https://pytorch.org/docs/master/optim.html?highlight=sgd#torch.optim.SGD>`__\n",
    "implements stochastic gradient descent method as the optimizer. The initial\n",
    "learning rate is set to 5.0. `StepLR <https://pytorch.org/docs/master/optim.html?highlight=steplr#torch.optim.lr_scheduler.StepLR>`__ is\n",
    "applied to adjust the learn rate through epochs. During the\n",
    "training, we use\n",
    "`nn.utils.clip_grad_norm\\_ <https://pytorch.org/docs/master/nn.html?highlight=nn%20utils%20clip_grad_norm#torch.nn.utils.clip_grad_norm_>`__\n",
    "function to scale all the gradient together to prevent exploding.\n",
    "\n",
    "\n"
   ]
  },
  {
   "cell_type": "code",
   "execution_count": 11,
   "metadata": {
    "id": "hSWQPh_Kh0s5"
   },
   "outputs": [],
   "source": [
    "criterion = nn.CrossEntropyLoss()\n",
    "lr = 5.0 # learning rate\n",
    "optimizer = torch.optim.SGD(model.parameters(), lr=lr)\n",
    "scheduler = torch.optim.lr_scheduler.StepLR(optimizer, 1.0, gamma=0.95)\n",
    "\n",
    "def train():\n",
    "    model.train() # Turn on the train mode\n",
    "    total_loss = 0.\n",
    "    start_time = time.time()\n",
    "    src_mask = model.generate_square_subsequent_mask(bptt).to(device)\n",
    "    \n",
    "    batch_indices = np.arange(0, train_data.size(0) - 1, bptt)\n",
    "    loss_per_batch = 0.0 * batch_indices  # record the training loss for each batch\n",
    "    \n",
    "    print(batch_indices)\n",
    "    print(train_data.size(0))\n",
    "    \n",
    "    for batch, i in enumerate(batch_indices):\n",
    "        data, targets = get_batch(train_data, i)\n",
    "        optimizer.zero_grad()\n",
    "        if data.size(0) != bptt:\n",
    "            src_mask = model.generate_square_subsequent_mask(data.size(0)).to(device)\n",
    "        output = model(data, src_mask)\n",
    "        loss = criterion(output.view(-1, ntokens), targets)\n",
    "        loss.backward()\n",
    "        torch.nn.utils.clip_grad_norm_(model.parameters(), 0.5)\n",
    "        optimizer.step()\n",
    "        \n",
    "        # TODO check if scaling is correct\n",
    "        loss_per_batch[batch] = loss\n",
    "\n",
    "        total_loss += loss.item()\n",
    "        log_interval = 200\n",
    "        if batch % log_interval == 0 and batch > 0:\n",
    "            cur_loss = total_loss / log_interval\n",
    "            elapsed = time.time() - start_time\n",
    "            print('| epoch {:3d} | {:5d}/{:5d} batches | '\n",
    "                  'lr {:02.2f} | ms/batch {:5.2f} | '\n",
    "                  'loss {:5.2f} | ppl {:8.2f}'.format(\n",
    "                    epoch, batch, len(train_data) // bptt, scheduler.get_last_lr()[0],\n",
    "                    elapsed * 1000 / log_interval,\n",
    "                    cur_loss, math.exp(cur_loss)))\n",
    "            total_loss = 0\n",
    "            start_time = time.time()\n",
    "    return loss_per_batch\n",
    "\n",
    "def evaluate(eval_model, data_source):\n",
    "    eval_model.eval() # Turn on the evaluation mode\n",
    "    total_loss = 0.\n",
    "    src_mask = model.generate_square_subsequent_mask(bptt).to(device)\n",
    "    with torch.no_grad():\n",
    "        for i in range(0, data_source.size(0) - 1, bptt):\n",
    "            data, targets = get_batch(data_source, i)\n",
    "            if data.size(0) != bptt:\n",
    "                src_mask = model.generate_square_subsequent_mask(data.size(0)).to(device)\n",
    "            output = eval_model(data, src_mask)\n",
    "            output_flat = output.view(-1, ntokens)\n",
    "            total_loss += len(data) * criterion(output_flat, targets).item()\n",
    "    return total_loss / (len(data_source) - 1)"
   ]
  },
  {
   "cell_type": "markdown",
   "metadata": {
    "id": "rrLNZrMIh0s6"
   },
   "source": [
    "Loop over epochs. Save the model if the validation loss is the best\n",
    "we've seen so far. Adjust the learning rate after each epoch.\n",
    "\n"
   ]
  },
  {
   "cell_type": "code",
   "execution_count": 12,
   "metadata": {
    "colab": {
     "base_uri": "https://localhost:8080/"
    },
    "executionInfo": {
     "elapsed": 2930154,
     "status": "ok",
     "timestamp": 1622775213128,
     "user": {
      "displayName": "Matthew Smart",
      "photoUrl": "",
      "userId": "06726801805653264331"
     },
     "user_tz": 240
    },
    "id": "51SeKWoph0s6",
    "outputId": "13899213-e03d-44cb-8839-991b708fe531",
    "scrolled": true
   },
   "outputs": [
    {
     "name": "stdout",
     "output_type": "stream",
     "text": [
      "[    0    35    70   105   140   175   210   245   280   315   350   385\n",
      "   420   455   490   525   560   595   630   665   700   735   770   805\n",
      "   840   875   910   945   980  1015  1050  1085  1120  1155  1190  1225\n",
      "  1260  1295  1330  1365  1400  1435  1470  1505  1540  1575  1610  1645\n",
      "  1680  1715  1750  1785  1820  1855  1890  1925  1960  1995  2030  2065\n",
      "  2100  2135  2170  2205  2240  2275  2310  2345  2380  2415  2450  2485\n",
      "  2520  2555  2590  2625  2660  2695  2730  2765  2800  2835  2870  2905\n",
      "  2940  2975  3010  3045  3080  3115  3150  3185  3220  3255  3290  3325\n",
      "  3360  3395  3430  3465  3500  3535  3570  3605  3640  3675  3710  3745\n",
      "  3780  3815  3850  3885  3920  3955  3990  4025  4060  4095  4130  4165\n",
      "  4200  4235  4270  4305  4340  4375  4410  4445  4480  4515  4550  4585\n",
      "  4620  4655  4690  4725  4760  4795  4830  4865  4900  4935  4970  5005\n",
      "  5040  5075  5110  5145  5180  5215  5250  5285  5320  5355  5390  5425\n",
      "  5460  5495  5530  5565  5600  5635  5670  5705  5740  5775  5810  5845\n",
      "  5880  5915  5950  5985  6020  6055  6090  6125  6160  6195  6230  6265\n",
      "  6300  6335  6370  6405  6440  6475  6510  6545  6580  6615  6650  6685\n",
      "  6720  6755  6790  6825  6860  6895  6930  6965  7000  7035  7070  7105\n",
      "  7140  7175  7210  7245  7280  7315  7350  7385  7420  7455  7490  7525\n",
      "  7560  7595  7630  7665  7700  7735  7770  7805  7840  7875  7910  7945\n",
      "  7980  8015  8050  8085  8120  8155  8190  8225  8260  8295  8330  8365\n",
      "  8400  8435  8470  8505  8540  8575  8610  8645  8680  8715  8750  8785\n",
      "  8820  8855  8890  8925  8960  8995  9030  9065  9100  9135  9170  9205\n",
      "  9240  9275  9310  9345  9380  9415  9450  9485  9520  9555  9590  9625\n",
      "  9660  9695  9730  9765  9800  9835  9870  9905  9940  9975 10010 10045\n",
      " 10080 10115 10150 10185 10220]\n",
      "10249\n",
      "| epoch   1 |   200/  292 batches | lr 5.00 | ms/batch 434.05 | loss  8.12 | ppl  3370.08\n",
      "-----------------------------------------------------------------------------------------\n",
      "| end of epoch   1 | time: 131.53s | valid loss  6.74 | valid ppl   849.05\n",
      "-----------------------------------------------------------------------------------------\n",
      "[    0    35    70   105   140   175   210   245   280   315   350   385\n",
      "   420   455   490   525   560   595   630   665   700   735   770   805\n",
      "   840   875   910   945   980  1015  1050  1085  1120  1155  1190  1225\n",
      "  1260  1295  1330  1365  1400  1435  1470  1505  1540  1575  1610  1645\n",
      "  1680  1715  1750  1785  1820  1855  1890  1925  1960  1995  2030  2065\n",
      "  2100  2135  2170  2205  2240  2275  2310  2345  2380  2415  2450  2485\n",
      "  2520  2555  2590  2625  2660  2695  2730  2765  2800  2835  2870  2905\n",
      "  2940  2975  3010  3045  3080  3115  3150  3185  3220  3255  3290  3325\n",
      "  3360  3395  3430  3465  3500  3535  3570  3605  3640  3675  3710  3745\n",
      "  3780  3815  3850  3885  3920  3955  3990  4025  4060  4095  4130  4165\n",
      "  4200  4235  4270  4305  4340  4375  4410  4445  4480  4515  4550  4585\n",
      "  4620  4655  4690  4725  4760  4795  4830  4865  4900  4935  4970  5005\n",
      "  5040  5075  5110  5145  5180  5215  5250  5285  5320  5355  5390  5425\n",
      "  5460  5495  5530  5565  5600  5635  5670  5705  5740  5775  5810  5845\n",
      "  5880  5915  5950  5985  6020  6055  6090  6125  6160  6195  6230  6265\n",
      "  6300  6335  6370  6405  6440  6475  6510  6545  6580  6615  6650  6685\n",
      "  6720  6755  6790  6825  6860  6895  6930  6965  7000  7035  7070  7105\n",
      "  7140  7175  7210  7245  7280  7315  7350  7385  7420  7455  7490  7525\n",
      "  7560  7595  7630  7665  7700  7735  7770  7805  7840  7875  7910  7945\n",
      "  7980  8015  8050  8085  8120  8155  8190  8225  8260  8295  8330  8365\n",
      "  8400  8435  8470  8505  8540  8575  8610  8645  8680  8715  8750  8785\n",
      "  8820  8855  8890  8925  8960  8995  9030  9065  9100  9135  9170  9205\n",
      "  9240  9275  9310  9345  9380  9415  9450  9485  9520  9555  9590  9625\n",
      "  9660  9695  9730  9765  9800  9835  9870  9905  9940  9975 10010 10045\n",
      " 10080 10115 10150 10185 10220]\n",
      "10249\n",
      "| epoch   2 |   200/  292 batches | lr 4.75 | ms/batch 452.03 | loss  6.46 | ppl   639.63\n",
      "-----------------------------------------------------------------------------------------\n",
      "| end of epoch   2 | time: 132.02s | valid loss  6.42 | valid ppl   614.92\n",
      "-----------------------------------------------------------------------------------------\n",
      "[    0    35    70   105   140   175   210   245   280   315   350   385\n",
      "   420   455   490   525   560   595   630   665   700   735   770   805\n",
      "   840   875   910   945   980  1015  1050  1085  1120  1155  1190  1225\n",
      "  1260  1295  1330  1365  1400  1435  1470  1505  1540  1575  1610  1645\n",
      "  1680  1715  1750  1785  1820  1855  1890  1925  1960  1995  2030  2065\n",
      "  2100  2135  2170  2205  2240  2275  2310  2345  2380  2415  2450  2485\n",
      "  2520  2555  2590  2625  2660  2695  2730  2765  2800  2835  2870  2905\n",
      "  2940  2975  3010  3045  3080  3115  3150  3185  3220  3255  3290  3325\n",
      "  3360  3395  3430  3465  3500  3535  3570  3605  3640  3675  3710  3745\n",
      "  3780  3815  3850  3885  3920  3955  3990  4025  4060  4095  4130  4165\n",
      "  4200  4235  4270  4305  4340  4375  4410  4445  4480  4515  4550  4585\n",
      "  4620  4655  4690  4725  4760  4795  4830  4865  4900  4935  4970  5005\n",
      "  5040  5075  5110  5145  5180  5215  5250  5285  5320  5355  5390  5425\n",
      "  5460  5495  5530  5565  5600  5635  5670  5705  5740  5775  5810  5845\n",
      "  5880  5915  5950  5985  6020  6055  6090  6125  6160  6195  6230  6265\n",
      "  6300  6335  6370  6405  6440  6475  6510  6545  6580  6615  6650  6685\n",
      "  6720  6755  6790  6825  6860  6895  6930  6965  7000  7035  7070  7105\n",
      "  7140  7175  7210  7245  7280  7315  7350  7385  7420  7455  7490  7525\n",
      "  7560  7595  7630  7665  7700  7735  7770  7805  7840  7875  7910  7945\n",
      "  7980  8015  8050  8085  8120  8155  8190  8225  8260  8295  8330  8365\n",
      "  8400  8435  8470  8505  8540  8575  8610  8645  8680  8715  8750  8785\n",
      "  8820  8855  8890  8925  8960  8995  9030  9065  9100  9135  9170  9205\n",
      "  9240  9275  9310  9345  9380  9415  9450  9485  9520  9555  9590  9625\n",
      "  9660  9695  9730  9765  9800  9835  9870  9905  9940  9975 10010 10045\n",
      " 10080 10115 10150 10185 10220]\n",
      "10249\n",
      "| epoch   3 |   200/  292 batches | lr 4.51 | ms/batch 391.10 | loss  5.88 | ppl   357.33\n",
      "-----------------------------------------------------------------------------------------\n",
      "| end of epoch   3 | time: 117.19s | valid loss  6.58 | valid ppl   718.52\n",
      "-----------------------------------------------------------------------------------------\n",
      "[    0    35    70   105   140   175   210   245   280   315   350   385\n",
      "   420   455   490   525   560   595   630   665   700   735   770   805\n",
      "   840   875   910   945   980  1015  1050  1085  1120  1155  1190  1225\n",
      "  1260  1295  1330  1365  1400  1435  1470  1505  1540  1575  1610  1645\n",
      "  1680  1715  1750  1785  1820  1855  1890  1925  1960  1995  2030  2065\n",
      "  2100  2135  2170  2205  2240  2275  2310  2345  2380  2415  2450  2485\n",
      "  2520  2555  2590  2625  2660  2695  2730  2765  2800  2835  2870  2905\n",
      "  2940  2975  3010  3045  3080  3115  3150  3185  3220  3255  3290  3325\n",
      "  3360  3395  3430  3465  3500  3535  3570  3605  3640  3675  3710  3745\n",
      "  3780  3815  3850  3885  3920  3955  3990  4025  4060  4095  4130  4165\n",
      "  4200  4235  4270  4305  4340  4375  4410  4445  4480  4515  4550  4585\n",
      "  4620  4655  4690  4725  4760  4795  4830  4865  4900  4935  4970  5005\n",
      "  5040  5075  5110  5145  5180  5215  5250  5285  5320  5355  5390  5425\n",
      "  5460  5495  5530  5565  5600  5635  5670  5705  5740  5775  5810  5845\n",
      "  5880  5915  5950  5985  6020  6055  6090  6125  6160  6195  6230  6265\n",
      "  6300  6335  6370  6405  6440  6475  6510  6545  6580  6615  6650  6685\n",
      "  6720  6755  6790  6825  6860  6895  6930  6965  7000  7035  7070  7105\n",
      "  7140  7175  7210  7245  7280  7315  7350  7385  7420  7455  7490  7525\n",
      "  7560  7595  7630  7665  7700  7735  7770  7805  7840  7875  7910  7945\n",
      "  7980  8015  8050  8085  8120  8155  8190  8225  8260  8295  8330  8365\n",
      "  8400  8435  8470  8505  8540  8575  8610  8645  8680  8715  8750  8785\n",
      "  8820  8855  8890  8925  8960  8995  9030  9065  9100  9135  9170  9205\n",
      "  9240  9275  9310  9345  9380  9415  9450  9485  9520  9555  9590  9625\n",
      "  9660  9695  9730  9765  9800  9835  9870  9905  9940  9975 10010 10045\n",
      " 10080 10115 10150 10185 10220]\n",
      "10249\n"
     ]
    },
    {
     "name": "stdout",
     "output_type": "stream",
     "text": [
      "| epoch   4 |   200/  292 batches | lr 4.29 | ms/batch 373.81 | loss  5.43 | ppl   228.98\n",
      "-----------------------------------------------------------------------------------------\n",
      "| end of epoch   4 | time: 113.51s | valid loss  6.60 | valid ppl   737.72\n",
      "-----------------------------------------------------------------------------------------\n"
     ]
    }
   ],
   "source": [
    "epochs = 4  # The number of epochs\n",
    "   \n",
    "batch_per_epoch = len(train_data) // bptt\n",
    "if (len(train_data) - 1) % bptt != 0:\n",
    "    batch_per_epoch += 1\n",
    "\n",
    "training_ppl_train_fine = np.zeros(epochs * batch_per_epoch)\n",
    "training_ppl_val_coarse = np.zeros(epochs)\n",
    "\n",
    "best_val_loss = float(\"inf\")\n",
    "best_model = None\n",
    "\n",
    "for epoch in range(1, epochs + 1):\n",
    "    epoch_start_time = time.time()\n",
    "    loss_per_batch = train()\n",
    "    \n",
    "    # print validation loss info each epoch\n",
    "    validation_loss = evaluate(model, val_data)\n",
    "    validation_ppl = math.exp(validation_loss)\n",
    "    print('-' * 89)\n",
    "    print('| end of epoch {:3d} | time: {:5.2f}s | valid loss {:5.2f} | '\n",
    "          'valid ppl {:8.2f}'.format(epoch, (time.time() - epoch_start_time),\n",
    "                                     validation_loss, validation_ppl))\n",
    "    print('-' * 89)\n",
    "    \n",
    "    # store loss info\n",
    "    training_ppl_val_coarse[epoch-1] = validation_ppl\n",
    "    training_ppl_train_fine[(epoch-1) * batch_per_epoch: (epoch)*batch_per_epoch] = np.exp(loss_per_batch)\n",
    "    \n",
    "    # save best model so far\n",
    "    if validation_loss < best_val_loss:\n",
    "        best_val_loss = validation_loss\n",
    "        best_model = model\n",
    "\n",
    "    scheduler.step()"
   ]
  },
  {
   "cell_type": "markdown",
   "metadata": {
    "id": "zJhCBOg1h0s6"
   },
   "source": [
    "Evaluate the model with the test dataset\n",
    "-------------------------------------\n",
    "\n",
    "Apply the best model to check the result with the test dataset.\n",
    "\n"
   ]
  },
  {
   "cell_type": "code",
   "execution_count": 13,
   "metadata": {
    "colab": {
     "base_uri": "https://localhost:8080/"
    },
    "executionInfo": {
     "elapsed": 3804,
     "status": "ok",
     "timestamp": 1622775216924,
     "user": {
      "displayName": "Matthew Smart",
      "photoUrl": "",
      "userId": "06726801805653264331"
     },
     "user_tz": 240
    },
    "id": "zL_3xrzEh0s6",
    "outputId": "7aa7d3a8-e176-47a8-ea5e-9620ea371c71"
   },
   "outputs": [
    {
     "name": "stdout",
     "output_type": "stream",
     "text": [
      "=========================================================================================\n",
      "| End of training | test loss  6.49 | test ppl   659.56\n",
      "=========================================================================================\n"
     ]
    }
   ],
   "source": [
    "test_loss = evaluate(best_model, test_data)\n",
    "print('=' * 89)\n",
    "print('| End of training | test loss {:5.2f} | test ppl {:8.2f}'.format(\n",
    "    test_loss, math.exp(test_loss)))\n",
    "print('=' * 89)"
   ]
  },
  {
   "cell_type": "markdown",
   "metadata": {
    "id": "HR49CErYKibd"
   },
   "source": [
    "**Save Model**"
   ]
  },
  {
   "cell_type": "code",
   "execution_count": 14,
   "metadata": {
    "colab": {
     "base_uri": "https://localhost:8080/"
    },
    "executionInfo": {
     "elapsed": 135,
     "status": "ok",
     "timestamp": 1622775217056,
     "user": {
      "displayName": "Matthew Smart",
      "photoUrl": "",
      "userId": "06726801805653264331"
     },
     "user_tz": 240
    },
    "id": "FcdB4FZrLi3p",
    "outputId": "a541c8e3-4714-45ae-f332-bbdc16ff3639"
   },
   "outputs": [],
   "source": [
    "# These two lines may need to be in their own blocks (for interpreting non python)\n",
    "if IN_COLAB:\n",
    "    cd /content/drive\n",
    "    !ls"
   ]
  },
  {
   "cell_type": "code",
   "execution_count": 16,
   "metadata": {
    "id": "hyw0tiY0K70T"
   },
   "outputs": [],
   "source": [
    "# Approach 1: save model weights\n",
    "# load as: \n",
    "#   model.load_state_dict(torch.load('model_weights.pth'))\n",
    "#   model.eval()\n",
    "torch.save(model.state_dict(), NOTEBOOK_OUTDIR + os.sep + 'model_weights.pth')\n",
    "\n",
    "# Approach 2: save model (class) entirely (uses pickle)\n",
    "# load as: \n",
    "#   model = torch.load('model.pth')\n",
    "torch.save(model, NOTEBOOK_OUTDIR + os.sep + 'model.pth')"
   ]
  },
  {
   "cell_type": "markdown",
   "metadata": {},
   "source": [
    "# Plot training timeseries"
   ]
  },
  {
   "cell_type": "code",
   "execution_count": 31,
   "metadata": {},
   "outputs": [
    {
     "data": {
      "image/png": "[encoded data removed]",
      "text/plain": [
       "<Figure size 576x432 with 1 Axes>"
      ]
     },
     "metadata": {
      "needs_background": "light"
     },
     "output_type": "display_data"
    }
   ],
   "source": [
    "np.savetxt(NOTEBOOK_OUTDIR + os.sep + 'training_ppl_train_fine.txt', training_ppl_train_fine)\n",
    "np.savetxt(NOTEBOOK_OUTDIR + os.sep + 'training_ppl_val_coarse.txt', training_ppl_val_coarse)\n",
    "\n",
    "import matplotlib.pyplot as plt\n",
    "\n",
    "epochs_axis = np.arange(1, epochs + 1)\n",
    "epochs_axis_fine = np.linspace(0, epochs, epochs * batch_per_epoch + 1)[:-1]\n",
    "\n",
    "plt.figure(figsize=(8,6))\n",
    "plt.plot(epochs_axis, training_ppl_val_coarse, '--ok', label='val', zorder=2)\n",
    "plt.plot(epochs_axis_fine, training_ppl_train_fine, 'b', label='train', zorder=1, alpha=0.5)\n",
    "plt.xlabel('epoch')\n",
    "plt.ylabel('ppl (validation set)')\n",
    "plt.legend()\n",
    "plt.yscale('log')\n",
    "plt.savefig(NOTEBOOK_OUTDIR + os.sep + 'training_performance.jpg')\n",
    "plt.show()"
   ]
  },
  {
   "cell_type": "code",
   "execution_count": 18,
   "metadata": {
    "scrolled": true
   },
   "outputs": [
    {
     "name": "stdout",
     "output_type": "stream",
     "text": [
      "[37830.85064057 10611.02200795 29608.03815448 ...   215.2253255\n",
      "   279.47947306   182.82413941]\n"
     ]
    }
   ],
   "source": [
    "print(training_ppl_train_fine)"
   ]
  },
  {
   "cell_type": "code",
   "execution_count": null,
   "metadata": {},
   "outputs": [],
   "source": []
  }
 ],
 "metadata": {
  "accelerator": "GPU",
  "colab": {
   "collapsed_sections": [],
   "name": "local_transformer_tutorial.ipynb",
   "provenance": [
    {
     "file_id": "https://github.com/pytorch/tutorials/blob/gh-pages/_downloads/dca13261bbb4e9809d1a3aa521d22dd7/transformer_tutorial.ipynb",
     "timestamp": 1622001366637
    }
   ]
  },
  "kernelspec": {
   "display_name": "Python 3",
   "language": "python",
   "name": "python3"
  },
  "language_info": {
   "codemirror_mode": {
    "name": "ipython",
    "version": 3
   },
   "file_extension": ".py",
   "mimetype": "text/x-python",
   "name": "python",
   "nbconvert_exporter": "python",
   "pygments_lexer": "ipython3",
   "version": "3.8.7"
  }
 },
 "nbformat": 4,
 "nbformat_minor": 1
}
