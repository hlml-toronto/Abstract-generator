{
  "cells": [
    {
      "cell_type": "code",
      "execution_count": 20,
      "id": "c18ec27a",
      "metadata": {
        "id": "c18ec27a",
        "colab": {
          "base_uri": "https://localhost:8080/"
        },
        "outputId": "85939aff-ea03-4e80-c602-e8792d82f533"
      },
      "outputs": [
        {
          "output_type": "stream",
          "name": "stdout",
          "text": [
            "The autoreload extension is already loaded. To reload it, use:\n",
            "  %reload_ext autoreload\n"
          ]
        }
      ],
      "source": [
        "%load_ext autoreload\n",
        "%autoreload 2"
      ]
    },
    {
      "cell_type": "code",
      "execution_count": 2,
      "id": "MZmtW9scbJ9Y",
      "metadata": {
        "colab": {
          "base_uri": "https://localhost:8080/"
        },
        "id": "MZmtW9scbJ9Y",
        "outputId": "55e81d33-9ec1-4b5c-c898-d2811ec99fa7"
      },
      "outputs": [
        {
          "output_type": "stream",
          "name": "stdout",
          "text": [
            "Mounted at /content/drive\n",
            "/content/drive/MyDrive/Documents/HLML/Abstract-generator/notebooks\n"
          ]
        }
      ],
      "source": [
        "IN_COLAB = 'google.colab' in str(get_ipython())\n",
        "\n",
        "if IN_COLAB:\n",
        "    from google.colab import drive\n",
        "    drive.mount('/content/drive', force_remount=True)\n",
        "    %cd /content/drive/MyDrive/Documents/HLML/Abstract-generator/notebooks"
      ]
    },
    {
      "cell_type": "code",
      "execution_count": 3,
      "id": "2p8t9jjUlx_O",
      "metadata": {
        "id": "2p8t9jjUlx_O"
      },
      "outputs": [],
      "source": [
        "%%capture\n",
        "if IN_COLAB:\n",
        "  !pip install feedparser tokenizers transformers scipy==1.7.1 sickle;"
      ]
    },
    {
      "cell_type": "code",
      "execution_count": 4,
      "id": "04f6ae9e",
      "metadata": {
        "colab": {
          "base_uri": "https://localhost:8080/"
        },
        "id": "04f6ae9e",
        "outputId": "b7cb5b54-e7ca-4773-a9e4-06a489605ebd"
      },
      "outputs": [
        {
          "output_type": "stream",
          "name": "stdout",
          "text": [
            "/content/drive/MyDrive/Documents/HLML/Abstract-generator\n"
          ]
        }
      ],
      "source": [
        "import os, torch, time, math, sys, re, csv\n",
        "import numpy as np\n",
        "\n",
        "PACKAGE_ROOT = os.path.dirname(os.path.abspath(''))\n",
        "print(PACKAGE_ROOT)\n",
        "sys.path.append(PACKAGE_ROOT)\n",
        "\n",
        "from src import settings\n",
        "import src.data.dataset_class as dsc\n",
        "import src.data.dataloader_class as dlc\n",
        "\n",
        "from src.model.generate_text import gen_some_text, decode_during_training\n",
        "\n",
        "from src.model.train_evaluate import train_version_jeremy as train\n",
        "from src.model.train_evaluate import evaluate_version_jeremy as evaluate\n",
        "\n",
        "#from src.model.transformer import make_gpt_model # imports don't work\n",
        "\n",
        "device = torch.device(\"cuda\" if torch.cuda.is_available() else \"cpu\")"
      ]
    },
    {
      "cell_type": "markdown",
      "id": "904013cd",
      "metadata": {
        "id": "904013cd"
      },
      "source": [
        "### Parameters"
      ]
    },
    {
      "cell_type": "code",
      "execution_count": 5,
      "id": "da73442b",
      "metadata": {
        "id": "da73442b"
      },
      "outputs": [],
      "source": [
        "# ARCHITECTURE\n",
        "# TODO : Make a class that sets all this, validates it's in use\n",
        "max_len_sentence     = 40 # maximum sentence length\n",
        "vocab_size  = None # None if you want to let tokenizer do its thing\n",
        "emsize     = 512 # embedding dimension\n",
        "nhid       = 2048 # the dimension of the feedforward network model in torch.nn.TransformerEncoder\n",
        "nlayers    = 12 # the number of torch.nn.TransformerEncoderLayer in torch.nn.TransformerEncoder\n",
        "nhead      = 8 # the number of heads in the multiheadattention models\n",
        "dropout    = 0.2 # the dropout value\n",
        "batch_size = 10 #32\n",
        "val_batch_size = 10 #32, not used right now.\n",
        "epochs     = 10  # The number of epochs\n",
        "\n",
        "#train tokenizer (or use one already trained)\n",
        "tknzr_type = 'BPE'\n",
        "flag_tknzr_train = True\n",
        "flag_tknzr_fast = True\n",
        "\n",
        "TRAIN = True"
      ]
    },
    {
      "cell_type": "markdown",
      "id": "21983a34",
      "metadata": {
        "id": "21983a34"
      },
      "source": [
        "### Format Dataset\n",
        "\n",
        "Uses a custom dataset class, which is an iterable and callable structure that returns a sample from our dataset. Within this custom dataset, can determine all preprocessing."
      ]
    },
    {
      "cell_type": "code",
      "execution_count": 6,
      "id": "015ae225",
      "metadata": {
        "colab": {
          "base_uri": "https://localhost:8080/"
        },
        "id": "015ae225",
        "outputId": "bbc963fc-265a-40c1-a4de-f95465bb8029"
      },
      "outputs": [
        {
          "output_type": "stream",
          "name": "stdout",
          "text": [
            "Warning : overwriting previously save tokenizer with                        same filename ( /content/drive/MyDrive/Documents/HLML/Abstract-generator/saved_tokenizers/BPE_arxiv_all_electron_10000.json ).\n"
          ]
        }
      ],
      "source": [
        "# create dataset\n",
        "dataset = dsc.ArxivDataset()\n",
        "#dataset = dsc.WikiTextDataset()\n",
        "\n",
        "_ = dataset.tokenizer(flag_tknzr_train, tknzr_type, flag_tknzr_fast=flag_tknzr_fast)"
      ]
    },
    {
      "cell_type": "markdown",
      "id": "e3955854",
      "metadata": {
        "id": "e3955854"
      },
      "source": [
        "### Selecting model\n",
        "\n",
        "Here we choose which model we shall use for training. For now, I've selected the black box Transformer from HuggingFace because the collate_fn I've written gives the correct input size force it... however this can easily be changed! "
      ]
    },
    {
      "cell_type": "code",
      "execution_count": 7,
      "id": "WAlDNZ1FMfKz",
      "metadata": {
        "id": "WAlDNZ1FMfKz"
      },
      "outputs": [],
      "source": [
        "HF = False  # if False, uses AIAYN "
      ]
    },
    {
      "cell_type": "markdown",
      "id": "4bba4cb9",
      "metadata": {
        "id": "4bba4cb9"
      },
      "source": [
        "### Creating DataLoaders\n",
        "\n",
        "Training is done on batches, so we need a way to extract groupings of the data in the appropriate format for our transformer model.\n",
        "Note that for transformers which we are training, dataloaders outputs both src (x[:-1] and tgt ([1:]).\n",
        "The collation of batches for different transformer models we have vary. For HuggingFace it's ( max_len x batch_size ) whereas I think that the Annotated Transformer has ( batch_size x max_len ).\n",
        "\n",
        "I created a custom Dataloader class that wraps splitting the dataset and also outputs different dataloaders for each.\n",
        "\n",
        "NOTE : Do not use the tokenizer before the training if you use num_workers>0!\n",
        "FastTokenizer does not play nicely with forking if you use it before the forking of your data:\n",
        "https://stackoverflow.com/questions/62691279/how-to-disable-tokenizers-parallelism-true-false-warning"
      ]
    },
    {
      "cell_type": "code",
      "execution_count": 8,
      "id": "c11048fc",
      "metadata": {
        "id": "c11048fc"
      },
      "outputs": [],
      "source": [
        "if HF:\n",
        "    dim = 0\n",
        "else:\n",
        "    dim = 1\n",
        "dataloader = dlc.CustomDataloader(dataset, batch_size, max_len_sentence, dim=dim)  # num_workers need to be changed to something less for Windows users"
      ]
    },
    {
      "cell_type": "code",
      "execution_count": 9,
      "id": "6de7d252",
      "metadata": {
        "id": "6de7d252"
      },
      "outputs": [],
      "source": [
        "if HF:\n",
        "    from src.model.transformer_torch import TransformerModel, make_std_mask\n",
        "\n",
        "    # transformer from huggingface\n",
        "    # TODO : Change to the Annotated Transformer if I want\n",
        "    model = TransformerModel(dataset.vocab_size, emsize, nhead, nhid, nlayers, dropout).to(device)\n",
        "\n",
        "    # criterion\n",
        "    criterion = torch.nn.CrossEntropyLoss()#ignore_index=tknzr.get_vocab()[\"<pad>\"])\n",
        "\n",
        "    # optimizer TODO : why these parameters?\n",
        "    paramsAdam  = [{'params' : model.parameters(), 'lr' : 1e-3, 'betas' : (0.9, 0.999), 'eps' : 1e-08, 'weight_decay' : 0.0}]\n",
        "    paramsAdamW = [{'params' : model.parameters(), 'lr' : 5e-5, 'betas' : (0.9, 0.999), 'eps' : 1e-08, 'weight_decay' : 0.0}]\n",
        "    paramsSGD   = [{'params' : model.parameters(), 'lr' : 0.5, 'momentum' : 0.0, 'dampening' : 0.0, 'weight_decay' : 0.0}]\n",
        "\n",
        "    optimizer = torch.optim.SGD( paramsSGD )\n",
        "    #optimizer = torch.optim.Adam( paramsAdam )\n",
        "    #optimizer = torch.optim.AdamW( paramsAdamW )\n",
        "    \n",
        "    # scheduler\n",
        "    scheduler = torch.optim.lr_scheduler.StepLR(optimizer, 1.0, gamma=0.95) # 1.0 to signify no decay rate\n",
        "\n",
        "else:\n",
        "    from src.model.transformer_aiayn import make_model, LabelSmoothing, NoamOpt, make_std_mask\n",
        "\n",
        "    model = make_model(dataset.vocab_size, N=nlayers, d_model=emsize, d_ff=nhid, h=nhead, dropout=dropout).to(device)\n",
        "\n",
        "    criterion = LabelSmoothing(size=dataset.vocab_size, padding_idx=0, smoothing=0.0)  # should this be SimpleLossCompute???\n",
        "\n",
        "    optimizer = NoamOpt(model.embed[0].d_model, 1, 4000, torch.optim.Adam(model.parameters(), lr=0, betas=(0.9, 0.98), eps=1e-9))\n",
        "    \n",
        "    scheduler = optimizer"
      ]
    },
    {
      "cell_type": "code",
      "execution_count": 10,
      "id": "xNEXSEoMb-9-",
      "metadata": {
        "id": "xNEXSEoMb-9-"
      },
      "outputs": [],
      "source": [
        "gen_text_each_epoch = True\n",
        "# default behaviour generate sentence 1 greedily, then nseed sentences with beta=1\n",
        "if gen_text_each_epoch:\n",
        "    text_prompt = 'The dog ran'\n",
        "    decode_seeds = [0, 1, 2]\n",
        "    decode_betas = [1.0, 1.0, 1.0]\n",
        "    nongreedy_style = 'sample_full'"
      ]
    },
    {
      "cell_type": "markdown",
      "id": "9780d86f",
      "metadata": {
        "id": "9780d86f"
      },
      "source": [
        "### Training\n",
        "\n",
        "Training loop!"
      ]
    },
    {
      "cell_type": "code",
      "execution_count": 22,
      "id": "75775f0e",
      "metadata": {
        "colab": {
          "base_uri": "https://localhost:8080/"
        },
        "id": "75775f0e",
        "outputId": "4c0386c6-5809-4a19-e764-a696609d7a25"
      },
      "outputs": [
        {
          "output_type": "stream",
          "name": "stdout",
          "text": [
            "| epoch   1 |   200/  700 batches | lr 0.00 | ms/batch 273.65 | loss  5.19 | ppl   178.77\n",
            "| epoch   1 |   400/  700 batches | lr 0.00 | ms/batch 271.47 | loss  5.14 | ppl   170.36\n",
            "| epoch   1 |   600/  700 batches | lr 0.00 | ms/batch 271.29 | loss  5.10 | ppl   163.77\n",
            "-----------------------------------------------------------------------------------------\n",
            "| end of epoch   1 | time: 197.86s | valid loss  5.17 | valid ppl   175.33\n",
            "-----------------------------------------------------------------------------------------\n",
            "Generated text at epoch 1: The dog ran ...\n",
            "Greedy decoding:\n",
            "\tThe dog ran  -  of  electron  electrons  gas  in  is  -  for  electron  electron  gas  gas  is  is  for  for  electron  electron  gas  gas  is  is  for  for\n",
            "(sample_full, seed=0, beta=1.00):\n",
            "\tThe dog ran  medium  contain  of  electrons  electrons  hopping  virtual  path  charge  matrix  Ru  times  near  bending  resolved  assumed  reduced  the  umber  coupling ,  between  is  electrons  single\n",
            "(sample_full, seed=1, beta=1.00):\n",
            "\tThe dog ran  ii  motivated  myster  \"  e  dimensions  tunneling  evaluation  energy  of  gap  electron  in  doped  interacting  collisions  electrons  on  upon  -  electron  spectral  correlations  concentric  transport\n",
            "(sample_full, seed=2, beta=1.00):\n",
            "\tThe dog ran  has  processes  tunable  is  space  in  matrix  dimensional  formalism  A  Electronic  model  excitation  describing  occurs  the  \"  parallel  electrons  heating  in  and  one  sp  dimensional\n",
            "-----------------------------------------------------------------------------------------\n",
            "Epoch   1 | example generation time:  9.18s\n",
            "-----------------------------------------------------------------------------------------\n",
            "| epoch   2 |   200/  700 batches | lr 0.00 | ms/batch 273.75 | loss  4.87 | ppl   129.93\n",
            "| epoch   2 |   400/  700 batches | lr 0.00 | ms/batch 271.14 | loss  4.84 | ppl   127.10\n",
            "| epoch   2 |   600/  700 batches | lr 0.00 | ms/batch 271.72 | loss  4.83 | ppl   125.64\n",
            "-----------------------------------------------------------------------------------------\n",
            "| end of epoch   2 | time: 197.96s | valid loss  5.00 | valid ppl   149.00\n",
            "-----------------------------------------------------------------------------------------\n",
            "Generated text at epoch 2: The dog ran ...\n",
            "Greedy decoding:\n",
            "\tThe dog ran  -  of  -  electrons  -  in  -  -  -  -  -  -  -  -  -  -  -  -  -  -  -  -  -  -  -\n",
            "(sample_full, seed=0, beta=1.00):\n",
            "\tThe dog ran  self  contain  -  electrons  half  account  resolution  of  theory  electron  for  times  a  superconductivity  two  assumed  reduced  to  umber  the ,  method  superconductivity  for  in\n",
            "(sample_full, seed=1, beta=1.00):\n",
            "\tThe dog ran  ii  femtosecond  Wigner  plasma  Collider  tail  is  evaluation  proposed  of  by  electron  how  doped  the  plane  filling  on  upon  -  electron  spectral  through  concentric  ion\n",
            "(sample_full, seed=2, beta=1.00):\n",
            "\tThe dog ran  has  processes  tunable  in  space  two  matrix  dimensional  formalism  spatially  and  Bohm  calculation  current  occurs  strength  depending  of  on  photons  -  and  interaction  average  between\n",
            "-----------------------------------------------------------------------------------------\n",
            "Epoch   2 | example generation time:  4.41s\n",
            "-----------------------------------------------------------------------------------------\n",
            "| epoch   3 |   200/  700 batches | lr 0.00 | ms/batch 273.86 | loss  4.62 | ppl   101.88\n",
            "| epoch   3 |   400/  700 batches | lr 0.00 | ms/batch 271.36 | loss  4.64 | ppl   103.82\n",
            "| epoch   3 |   600/  700 batches | lr 0.00 | ms/batch 271.60 | loss  4.66 | ppl   105.99\n",
            "-----------------------------------------------------------------------------------------\n",
            "| end of epoch   3 | time: 197.95s | valid loss  4.95 | valid ppl   140.78\n",
            "-----------------------------------------------------------------------------------------\n",
            "Generated text at epoch 3: The dog ran ...\n",
            "Greedy decoding:\n",
            "\tThe dog ran  -  the  Hubbard  electronic  model  structure  between  calculations  electrons  of  in  electrons  -  in  Hubbard  -  model  Hubbard  between  model  electrons  between  in  electrons  -\n",
            "(sample_full, seed=0, beta=1.00):\n",
            "\tThe dog ran  self  a  -  applied  half  collisional  -  path  Holstein  master  within  ground  density  superconductivity  resolved  in  tunneling  the  on  coupling  ray  between  is  each  performed\n",
            "(sample_full, seed=1, beta=1.00):\n",
            "\tThe dog ran  -  femtosecond  Wigner  advances  electrons  on  in  -  -  electron  coupling  pair  in  -  interacting  vertex  electrons  resistance  upon  has In  been  conditions  concentric  to\n",
            "(sample_full, seed=2, beta=1.00):\n",
            "\tThe dog ran  has  processes  tunable  in  high  polar  contrast  Raman  to  waves  the  through  Hubbard  current  occurs  occurs  depending  via  on  heating  -  and  interaction  electron  between\n",
            "-----------------------------------------------------------------------------------------\n",
            "Epoch   3 | example generation time:  4.48s\n",
            "-----------------------------------------------------------------------------------------\n",
            "| epoch   4 |   200/  700 batches | lr 0.00 | ms/batch 274.15 | loss  4.42 | ppl    82.90\n",
            "| epoch   4 |   400/  700 batches | lr 0.00 | ms/batch 271.57 | loss  4.51 | ppl    90.69\n",
            "| epoch   4 |   600/  700 batches | lr 0.00 | ms/batch 271.73 | loss  4.56 | ppl    95.36\n",
            "-----------------------------------------------------------------------------------------\n",
            "| end of epoch   4 | time: 198.08s | valid loss  4.89 | valid ppl   132.77\n",
            "-----------------------------------------------------------------------------------------\n",
            "Generated text at epoch 4: The dog ran ...\n",
            "Greedy decoding:\n",
            "\tThe dog ran  -  for  Hubbard  electrons  model  in  for  -  electrons  Hubbard  in  model  -  for  Hubbard  electrons  model  in  for  -  electrons  Hubbard  in  model  -\n",
            "(sample_full, seed=0, beta=1.00):\n",
            "\tThe dog ran  self  contain  -  applied  half  Coulomb  -  path  charge  simulations  states  for  often  electron  rough  beams 2  of  coupled  electrons  Coulomb  through  interacting  -  electrons\n",
            "(sample_full, seed=1, beta=1.00):\n",
            "\tThe dog ran  ii  employing  earlier  density  e  states  distributions  evaluation  on  of  -  electron  Hubbard  -  Holstein  plane  filling  resistance  upon  has  electron  been  exchange  concentric  couplings\n",
            "(sample_full, seed=2, beta=1.00):\n",
            "\tThe dog ran  has  processes  tunable  in  space  two  matrix  dimensional  equivalent  spatially  electromagnetic  Bohm  fields  current  occurs  occurs  depending  by  on  heating  -  and  interaction  sp  between\n",
            "-----------------------------------------------------------------------------------------\n",
            "Epoch   4 | example generation time:  4.45s\n",
            "-----------------------------------------------------------------------------------------\n",
            "| epoch   5 |   200/  700 batches | lr 0.00 | ms/batch 274.05 | loss  4.27 | ppl    71.32\n",
            "| epoch   5 |   400/  700 batches | lr 0.00 | ms/batch 271.75 | loss  4.35 | ppl    77.81\n",
            "| epoch   5 |   600/  700 batches | lr 0.00 | ms/batch 271.79 | loss  4.35 | ppl    77.64\n",
            "-----------------------------------------------------------------------------------------\n",
            "| end of epoch   5 | time: 198.13s | valid loss  4.83 | valid ppl   125.32\n",
            "-----------------------------------------------------------------------------------------\n",
            "Generated text at epoch 5: The dog ran ...\n",
            "Greedy decoding:\n",
            "\tThe dog ran  -  of  field  electrons  of  in  electrons  the  in  effect  the  on  effect  the  on  effect  the  on  effect  the  on  effect  the  on  effect\n",
            "(sample_full, seed=0, beta=1.00):\n",
            "\tThe dog ran  medium  contain  (  applied  )  localization  resolution  of  rotation  electron  within  times  a  bending  two  photoinduced  dimensional  the  correlated  conditions ,  for  superconductivity  each  in\n",
            "(sample_full, seed=1, beta=1.00):\n",
            "\tThe dog ran  ii  concerning  Wigner  the  pnictides  dimensions  is  evaluation  here  of  letter  electron  in  -  terahertz  seen  (  experimentally  6  using In  kinetic  this  concentric  ion\n",
            "(sample_full, seed=2, beta=1.00):\n",
            "\tThe dog ran  models  has  of  carbon  the  rise  matrix  particularly  formalism  their  and  electron  inorganic  current  occurs  occurs  across  when  classical  in  approaches  quantum  to  dots  understand\n",
            "-----------------------------------------------------------------------------------------\n",
            "Epoch   5 | example generation time:  4.48s\n",
            "-----------------------------------------------------------------------------------------\n",
            "| epoch   6 |   200/  700 batches | lr 0.00 | ms/batch 274.27 | loss  4.09 | ppl    59.72\n",
            "| epoch   6 |   400/  700 batches | lr 0.00 | ms/batch 271.62 | loss  4.17 | ppl    64.69\n",
            "| epoch   6 |   600/  700 batches | lr 0.00 | ms/batch 271.80 | loss  4.22 | ppl    68.34\n",
            "-----------------------------------------------------------------------------------------\n",
            "| end of epoch   6 | time: 198.19s | valid loss  4.81 | valid ppl   123.07\n",
            "-----------------------------------------------------------------------------------------\n",
            "Generated text at epoch 6: The dog ran ...\n",
            "Greedy decoding:\n",
            "\tThe dog ran  -  of  electron  electrons  scattering  in  rate  -  of  electron  electrons  scattering  in  rate  -  of  electron  electrons  scattering  in  rate  -  of  electron  electrons\n",
            "(sample_full, seed=0, beta=1.00):\n",
            "\tThe dog ran  Strong  charges  quasi  applied  two  to  -  the  charge  electron  capacity  correlations  density  between  waves  Landau  in  3  the D  atomic odically  of  gated  single\n",
            "(sample_full, seed=1, beta=1.00):\n",
            "\tThe dog ran  perturbation  in  simulations  -  of  structural  tunneling  compounds  in ,  order  electron  in  doped  plane  plane  filling  resistance  upon  --  electron  (  exchange  concentric  correlation\n",
            "(sample_full, seed=2, beta=1.00):\n",
            "\tThe dog ran  breaking  of  of  carbon  high  SrTiO  contrast 3  to  spatially  the  electron  problem  current  occurs  occurs  depending  the  on  electron  -  holes  interaction  in  between\n",
            "-----------------------------------------------------------------------------------------\n",
            "Epoch   6 | example generation time:  4.37s\n",
            "-----------------------------------------------------------------------------------------\n",
            "| epoch   7 |   200/  700 batches | lr 0.00 | ms/batch 273.92 | loss  3.95 | ppl    51.89\n",
            "| epoch   7 |   400/  700 batches | lr 0.00 | ms/batch 271.79 | loss  4.02 | ppl    55.45\n",
            "| epoch   7 |   600/  700 batches | lr 0.00 | ms/batch 271.73 | loss  4.09 | ppl    59.74\n",
            "-----------------------------------------------------------------------------------------\n",
            "| end of epoch   7 | time: 198.10s | valid loss  4.81 | valid ppl   122.67\n",
            "-----------------------------------------------------------------------------------------\n",
            "Generated text at epoch 7: The dog ran ...\n",
            "Greedy decoding:\n",
            "\tThe dog ran  -  by  electron  the  scattering  electron  of  scattering  electrons  of  in  electrons  -  in  electron  -  scattering  electron  of  scattering  electrons  of  in  electrons  -\n",
            "(sample_full, seed=0, beta=1.00):\n",
            "\tThe dog ran  structures  contain  of  applied  spins  to  -  path  rotation  bf  for  times  spin  between  -  LaAlO  drift  3  field D , odically  is  classical  to\n",
            "(sample_full, seed=1, beta=1.00):\n",
            "\tThe dog ran  ii  in  faces  -  e  ($ .,  y  anoscale  {\\  devices  },  in  doped  -  itinerant  filling  insulators  upon  has  electron  been  dynamics  concentric  of\n",
            "(sample_full, seed=2, beta=1.00):\n",
            "\tThe dog ran  models  has  of  carbon  high  thin  contrast  films  to  and  the  electron  problem  dynamics  of  of  electrons  electron  interact  heating  with  in  conditions  -  epitaxially\n",
            "-----------------------------------------------------------------------------------------\n",
            "Epoch   7 | example generation time:  4.61s\n",
            "-----------------------------------------------------------------------------------------\n",
            "| epoch   8 |   200/  700 batches | lr 0.00 | ms/batch 274.10 | loss  3.81 | ppl    45.18\n",
            "| epoch   8 |   400/  700 batches | lr 0.00 | ms/batch 271.84 | loss  3.90 | ppl    49.41\n",
            "| epoch   8 |   600/  700 batches | lr 0.00 | ms/batch 271.95 | loss  3.97 | ppl    53.05\n",
            "-----------------------------------------------------------------------------------------\n",
            "| end of epoch   8 | time: 198.21s | valid loss  4.81 | valid ppl   122.72\n",
            "-----------------------------------------------------------------------------------------\n",
            "Generated text at epoch 8: The dog ran ...\n",
            "Greedy decoding:\n",
            "\tThe dog ran  -  by  Holstein  the  model  effect  describing  on  the  -  effect  Holstein  on  model  -  describing  Holstein  the  model  effect  describing  on  the  -  effect\n",
            "(sample_full, seed=0, beta=1.00):\n",
            "\tThe dog ran  shaped  contain  quasi  We  -  study orhod  path  defect  fields  within  strongly  density  correlated  -  assumed  drift  into  fields  the ,  A  superconductivity  model  in\n",
            "(sample_full, seed=1, beta=1.00):\n",
            "\tThe dog ran  ii  in  faces  -  e  ($ .,  y  anoscale  generically  junctions  elucidate  in  the  plane  seen  filling  importance  upon  for  electron  kinetic  exchange  concentric  is\n",
            "(sample_full, seed=2, beta=1.00):\n",
            "\tThe dog ran  anti  has  tunable  been  injection  in  matrix  mechanisms  formalism  between  is  electron  in  current  dimensional  occurs  (  when  )  photons  transfer  and  of  average  charged\n",
            "-----------------------------------------------------------------------------------------\n",
            "Epoch   8 | example generation time:  4.47s\n",
            "-----------------------------------------------------------------------------------------\n",
            "| epoch   9 |   200/  700 batches | lr 0.00 | ms/batch 274.24 | loss  3.68 | ppl    39.62\n",
            "| epoch   9 |   400/  700 batches | lr 0.00 | ms/batch 271.81 | loss  3.80 | ppl    44.85\n",
            "| epoch   9 |   600/  700 batches | lr 0.00 | ms/batch 272.08 | loss  3.86 | ppl    47.61\n",
            "-----------------------------------------------------------------------------------------\n",
            "| end of epoch   9 | time: 198.31s | valid loss  4.86 | valid ppl   129.33\n",
            "-----------------------------------------------------------------------------------------\n",
            "Generated text at epoch 9: The dog ran ...\n",
            "Greedy decoding:\n",
            "\tThe dog ran  -  at  -  the  -  electronic  -  structure  -  calculations  -  of  -  quantum  -  dots  -  are  -  a  -  model  -  describing  -\n",
            "(sample_full, seed=0, beta=1.00):\n",
            "\tThe dog ran  shaped  at  quantum  applied  dots  coupling orhod  quantum  predicts  dots  radio  strongly  structures  coupled  for  to  uclear  the  spins  coupling ,  due  spin  to  single\n",
            "(sample_full, seed=1, beta=1.00):\n",
            "\tThe dog ran  ii  at  iron  high  pnictides  dimensions  is  evaluation  in  of  order  electron  in  -  plane  plane  filling  plasma  upon  can  electron  excite  exchange  concentric  is\n",
            "(sample_full, seed=2, beta=1.00):\n",
            "\tThe dog ran  relies  from  on  kinetic  -  in  matrix  dimensional  formalism  perovskite  and  substitution  beta  are  occurs  of  in  electron  field  heating  approaches  in  to  -  the\n",
            "-----------------------------------------------------------------------------------------\n",
            "Epoch   9 | example generation time:  4.51s\n",
            "-----------------------------------------------------------------------------------------\n",
            "| epoch  10 |   200/  700 batches | lr 0.00 | ms/batch 274.20 | loss  3.58 | ppl    35.85\n",
            "| epoch  10 |   400/  700 batches | lr 0.00 | ms/batch 272.04 | loss  3.70 | ppl    40.34\n",
            "| epoch  10 |   600/  700 batches | lr 0.00 | ms/batch 272.01 | loss  3.75 | ppl    42.73\n",
            "-----------------------------------------------------------------------------------------\n",
            "| end of epoch  10 | time: 198.30s | valid loss  4.84 | valid ppl   126.58\n",
            "-----------------------------------------------------------------------------------------\n",
            "Generated text at epoch 10: The dog ran ...\n",
            "Greedy decoding:\n",
            "\tThe dog ran  -  at  electron  the  transport  electron  through  transport  -  through  electron  -  transport  electron  through  transport  -  through  electron  -  transport  electron  through  transport  -\n",
            "(sample_full, seed=0, beta=1.00):\n",
            "\tThe dog ran  timing  charges  Hermite  applied  such  hopping  as  in  shown  -  that  ground  a  state  two  assumed  -  to  field  the ,  magnetic  superconductivity  reconnection  in\n",
            "(sample_full, seed=1, beta=1.00):\n",
            "\tThe dog ran  ii  e  Wigner .  level  there  tunneling  evaluation  in  of  -  electron  in  -  plane  seen  filling ,  upon  relaxation  electron  (  exchange  concentric  correlation\n",
            "(sample_full, seed=2, beta=1.00):\n",
            "\tThe dog ran  belt  processes  heating  carbon  in  in  -  dimensional  wave  perovskite  reconnection  substitution  in  are  dimensional  of  (  parallel  )  heating  transfer  in  of  -  charged\n",
            "-----------------------------------------------------------------------------------------\n",
            "Epoch  10 | example generation time:  4.55s\n",
            "-----------------------------------------------------------------------------------------\n"
          ]
        }
      ],
      "source": [
        "os.environ[\"TOKENIZERS_PARALLELISM\"] = \"false\"  # fasttokenizer should not be used before forking. Something\n",
        "                                                # to figure out. What this does is suppress some warning messages \n",
        "                                                # https://stackoverflow.com/questions/62691279/how-to-disable-tokenizers-parallelism-true-false-warning\n",
        "                                                # doesn't seem to affect the timing though\n",
        "if TRAIN:\n",
        "    nbr_batches = len(dataloader.train)\n",
        "    training_ppl_train_fine = np.zeros(epochs * nbr_batches)\n",
        "    training_ppl_val_coarse = np.zeros(epochs)\n",
        "    best_val_loss = float(\"inf\")\n",
        "    best_model = None\n",
        "    for epoch in range(1, epochs + 1):\n",
        "        epoch_start_time = time.time()\n",
        "        loss_per_batch = train(model, dataloader.train, device, dataset.vocab_size, epoch, optimizer, scheduler, criterion, make_std_mask, 0, max_len_sentence)\n",
        "        val_loss = evaluate(model, dataloader.valid, device, dataset.vocab_size, criterion, max_len_sentence, make_std_mask, pad=0)\n",
        "        validation_ppl = math.exp(val_loss)\n",
        "        print('-' * 89)\n",
        "        print('| end of epoch {:3d} | time: {:5.2f}s | valid loss {:5.2f} | '\n",
        "              'valid ppl {:8.2f}'.format(epoch, (time.time() - epoch_start_time),\n",
        "                                         val_loss, validation_ppl))\n",
        "        print('-' * 89)\n",
        "        \n",
        "        training_ppl_val_coarse[epoch - 1] = validation_ppl\n",
        "        training_ppl_train_fine[(epoch - 1)*nbr_batches: (epoch)*nbr_batches] = np.exp(loss_per_batch)\n",
        "\n",
        "        if val_loss < best_val_loss:\n",
        "            best_val_loss = val_loss\n",
        "            best_model = model\n",
        "\n",
        "        scheduler.step()\n",
        "\n",
        "        if gen_text_each_epoch:\n",
        "            decode_during_training(model, dataset.transform, device, epoch,\n",
        "                                   make_std_mask,\n",
        "                                   nongreedy_style,\n",
        "                                   max_len_sentence,\n",
        "                                   text_prompt,\n",
        "                                   decode_seeds,\n",
        "                                   decode_betas)\n",
        "\n",
        "    np.savetxt(settings.DIR_MODELS + os.sep + f'{dataset.name}_epoch_{epochs}_training_ppl_train_fine.txt', training_ppl_train_fine)\n",
        "    np.savetxt(settings.DIR_MODELS + os.sep + f'{dataset.name}_epoch_{epochs}_training_ppl_val_coarse.txt', training_ppl_val_coarse)\n",
        "\n",
        "    # save best model (two methods)\n",
        "    model_full = settings.DIR_MODELS + os.sep + f'{dataset.name}_epoch_{epochs}.pth'\n",
        "    model_weights = settings.DIR_MODELS + os.sep + f'{dataset.name}_weights_epoch_{epochs}.pth'\n",
        "    model_full_best = settings.DIR_MODELS + os.sep + f'{dataset.name}_epoch_{epochs}_best.pth'\n",
        "    model_weights_best = settings.DIR_MODELS + os.sep + f'{dataset.name}_weights_epoch_{epochs}_best.pth'\n",
        "    # approach 1: save model (class) entirely (uses pickle)\n",
        "    torch.save(model, model_full)\n",
        "    torch.save(best_model, model_full_best)\n",
        "    # approach 2: save model weights\n",
        "    torch.save(best_model.state_dict(), model_weights_best)"
      ]
    },
    {
      "cell_type": "markdown",
      "id": "fhFjHInPiK_A",
      "metadata": {
        "id": "fhFjHInPiK_A"
      },
      "source": [
        "## Plotting Loss"
      ]
    },
    {
      "cell_type": "code",
      "execution_count": 23,
      "id": "NDDjgoQqjODa",
      "metadata": {
        "id": "NDDjgoQqjODa"
      },
      "outputs": [],
      "source": [
        "import matplotlib.pyplot as plt\n",
        "\n",
        "epochs_axis = np.arange(1, epochs + 1)\n",
        "epochs_axis_fine = np.linspace(0, epochs, epochs * nbr_batches + 1)[:-1]\n",
        "\n",
        "def plot_training_timeseries(exp_name='', fname='training_performance',\n",
        "                             ext='.jpg',\n",
        "                             logy=True, \n",
        "                             xlims=None, \n",
        "                             ylims=None\n",
        "                             ):\n",
        "\n",
        "    plt.figure(figsize=(8,6))\n",
        "    plt.plot(epochs_axis, training_ppl_val_coarse, '--ok', label='val', zorder=2)\n",
        "    plt.plot(epochs_axis_fine, training_ppl_train_fine, 'b', label='train', zorder=1, alpha=0.5)\n",
        "    plt.xlabel('epoch')\n",
        "    plt.ylabel('ppl (validation set)')\n",
        "    plt.legend()\n",
        "    if logy:\n",
        "        plt.yscale('log')\n",
        "        fname += '_logy'\n",
        "    if xlims is not None:\n",
        "        plt.xlim(xlims[0], xlims[1])\n",
        "    if ylims is not None:\n",
        "        plt.ylim(ylims[0], ylims[1])\n",
        "    plt.savefig(settings.DIR_MODELS + os.sep + f'{dataset.name}_epoch_{epochs}_{fname} + ext')\n",
        "    plt.show()"
      ]
    },
    {
      "cell_type": "code",
      "execution_count": 24,
      "id": "CPgCoA_uigGn",
      "metadata": {
        "id": "CPgCoA_uigGn",
        "colab": {
          "base_uri": "https://localhost:8080/",
          "height": 759
        },
        "outputId": "4f169362-9772-4209-fd6f-6597b025fd33"
      },
      "outputs": [
        {
          "output_type": "display_data",
          "data": {
            "image/png": "[encoded data removed]",
            "text/plain": [
              "<Figure size 576x432 with 1 Axes>"
            ]
          },
          "metadata": {
            "needs_background": "light"
          }
        },
        {
          "output_type": "display_data",
          "data": {
            "image/png": "[encoded data removed]",
            "text/plain": [
              "<Figure size 576x432 with 1 Axes>"
            ]
          },
          "metadata": {
            "needs_background": "light"
          }
        }
      ],
      "source": [
        "plot_training_timeseries(exp_name=dataset.name, logy=True)\n",
        "plot_training_timeseries(exp_name=dataset.name, fname='training_performance_linear', logy=False, ylims=(0, np.max(training_ppl_val_coarse) * 1.2))"
      ]
    },
    {
      "cell_type": "markdown",
      "id": "XM5G4vD0q9TZ",
      "metadata": {
        "id": "XM5G4vD0q9TZ"
      },
      "source": [
        "### Text Generation\n",
        "\n",
        "Here I've simply taken the code Matt uses to generate text."
      ]
    },
    {
      "cell_type": "code",
      "execution_count": 25,
      "id": "eb6acee1",
      "metadata": {
        "id": "eb6acee1"
      },
      "outputs": [],
      "source": [
        "if not TRAIN:\n",
        "    custom_filename = 'arxiv_10000'\n",
        "    custom_epochs = 10\n",
        "    model_full = settings.DIR_MODELS + os.sep + f'{custom_filename}_epoch_{custom_epochs}_best.pth'\n",
        "    model_weights = settings.DIR_MODELS + os.sep + f'{custom_filename}_weights_epoch_{custom_epochs}_best.pth'\n",
        "    \n",
        "    # approach 1: load model (class) entirely (uses pickle)\n",
        "    model_full_load = torch.load(model_full, map_location=device)\n",
        "\n",
        "    # approach 2: load model weights, need to have some parameter or something \n",
        "    model_load = TransformerModel(vocab_size, emsize, nhead, nhid, nlayers, dropout).to(device)\n",
        "    model_weights_load = model_load.load_state_dict( torch.load(model_weights) )"
      ]
    },
    {
      "cell_type": "code",
      "execution_count": 26,
      "id": "SoGylu7hq7kI",
      "metadata": {
        "id": "SoGylu7hq7kI",
        "colab": {
          "base_uri": "https://localhost:8080/",
          "height": 242
        },
        "outputId": "72780315-7d1a-416d-cde9-339226ee079c"
      },
      "outputs": [
        {
          "output_type": "error",
          "ename": "TypeError",
          "evalue": "ignored",
          "traceback": [
            "\u001b[0;31m---------------------------------------------------------------------------\u001b[0m",
            "\u001b[0;31mTypeError\u001b[0m                                 Traceback (most recent call last)",
            "\u001b[0;32m<ipython-input-26-c7cd456076ba>\u001b[0m in \u001b[0;36m<module>\u001b[0;34m()\u001b[0m\n\u001b[1;32m     14\u001b[0m generated_text = gen_some_text(\n\u001b[1;32m     15\u001b[0m     \u001b[0mbest_model\u001b[0m\u001b[0;34m,\u001b[0m \u001b[0mdataset\u001b[0m\u001b[0;34m.\u001b[0m\u001b[0mtransform\u001b[0m\u001b[0;34m,\u001b[0m \u001b[0;34m'cpu'\u001b[0m\u001b[0;34m,\u001b[0m \u001b[0mmax_len_sentence\u001b[0m\u001b[0;34m,\u001b[0m \u001b[0mtext_prompt\u001b[0m\u001b[0;34m=\u001b[0m\u001b[0mprompt\u001b[0m\u001b[0;34m,\u001b[0m \u001b[0mtokens_to_gen\u001b[0m\u001b[0;34m=\u001b[0m\u001b[0mngen\u001b[0m\u001b[0;34m,\u001b[0m \u001b[0mvis\u001b[0m\u001b[0;34m=\u001b[0m\u001b[0;32mFalse\u001b[0m\u001b[0;34m,\u001b[0m\u001b[0;34m\u001b[0m\u001b[0;34m\u001b[0m\u001b[0m\n\u001b[0;32m---> 16\u001b[0;31m     decode_style=decode_style)\n\u001b[0m\u001b[1;32m     17\u001b[0m \u001b[0mprint\u001b[0m\u001b[0;34m(\u001b[0m\u001b[0;34m\"Text prompt:\\n\"\u001b[0m\u001b[0;34m,\u001b[0m \u001b[0mprompt\u001b[0m\u001b[0;34m)\u001b[0m\u001b[0;34m\u001b[0m\u001b[0;34m\u001b[0m\u001b[0m\n\u001b[1;32m     18\u001b[0m \u001b[0mprint\u001b[0m\u001b[0;34m(\u001b[0m\u001b[0;34m\"Number of tokens to generate:\"\u001b[0m\u001b[0;34m,\u001b[0m \u001b[0mngen\u001b[0m\u001b[0;34m)\u001b[0m\u001b[0;34m\u001b[0m\u001b[0;34m\u001b[0m\u001b[0m\n",
            "\u001b[0;31mTypeError\u001b[0m: gen_some_text() missing 1 required positional argument: 'make_std_mask'"
          ]
        }
      ],
      "source": [
        "# inspect both models\n",
        "#print('model_A info...\\n', model_full_load)\n",
        "#print('\\nmodel_B info...\\n', model_weights_load)\n",
        "\n",
        "#print('model_A == model_B:', model_full_load == model_weights_load)\n",
        "#model = model_full_load\n",
        "# Text generation example\n",
        "\n",
        "#model = model_load\n",
        "prompt = 'The dog ran'\n",
        "ngen = 100\n",
        "decode_style = 'sample_topp' #greedy, sample_topp\n",
        "model.to('cpu')\n",
        "generated_text = gen_some_text(\n",
        "    best_model, dataset.transform, 'cpu', max_len_sentence, text_prompt=prompt, tokens_to_gen=ngen, vis=False,\n",
        "    decode_style=decode_style)\n",
        "print(\"Text prompt:\\n\", prompt)\n",
        "print(\"Number of tokens to generate:\", ngen)\n",
        "print(\"Generated_text:\\n\", generated_text)\n",
        "\n",
        "# TODO: alternative generation\n",
        "# currently 'greedy method'\n",
        "# see: https://huggingface.co/blog/how-to-generate"
      ]
    }
  ],
  "metadata": {
    "accelerator": "GPU",
    "colab": {
      "collapsed_sections": [],
      "name": "training_and_evaluation.ipynb",
      "provenance": []
    },
    "kernelspec": {
      "display_name": "Python 3 (ipykernel)",
      "language": "python",
      "name": "python3"
    },
    "language_info": {
      "codemirror_mode": {
        "name": "ipython",
        "version": 3
      },
      "file_extension": ".py",
      "mimetype": "text/x-python",
      "name": "python",
      "nbconvert_exporter": "python",
      "pygments_lexer": "ipython3",
      "version": "3.8.10"
    }
  },
  "nbformat": 4,
  "nbformat_minor": 5
}