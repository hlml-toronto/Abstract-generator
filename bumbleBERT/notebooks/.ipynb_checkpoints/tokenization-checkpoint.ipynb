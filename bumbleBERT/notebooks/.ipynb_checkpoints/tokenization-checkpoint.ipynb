{
 "cells": [
  {
   "cell_type": "code",
   "execution_count": 1,
   "id": "d955a184",
   "metadata": {},
   "outputs": [],
   "source": [
    "import re\n",
    "import csv, os, sys\n",
    "import spacy\n",
    "import pandas as pd\n",
    "\n",
    "sys.path.append('../')\n",
    "\n",
    "from src import default\n",
    "from src.data import download as dl, data_preprocessing as dpp, tokenization as tkn"
   ]
  },
  {
   "cell_type": "code",
   "execution_count": 3,
   "id": "9f3c79f2",
   "metadata": {},
   "outputs": [],
   "source": [
    "def tokenizer_examples(tokenizer, raw_tokenizer=True, title='default'):\n",
    "    \"\"\"\n",
    "    Example of a \"Raw tokenizer\":\n",
    "        tokenizer = Tokenizer.from_file(tpath)\n",
    "    Example of \"not Raw tokenizer\":\n",
    "        from transformers import PreTrainedTokenizerFast\n",
    "        fast_tokenizer = PreTrainedTokenizerFast(tokenizer_file=tpath)\n",
    "    \"\"\"\n",
    "    title_break = '\\n****************************************************************'\n",
    "    # example text\n",
    "    text0 = \"Hello, y'all! How are you 😁 ?\"\n",
    "    text1 = \"Here is some code spaghetti\"\n",
    "    text2 = \"configuration interaction (CI) wave functions is examined\"\n",
    "    text3 = \"By analogy with the pseudopotential approach for electron-ion interactions\"\n",
    "    text4 = \"Welcome to the 🤗 Tokenizers library.\"\n",
    "    examples = [text0, text1, text2, text3, text4]\n",
    "\n",
    "    if raw_tokenizer:\n",
    "        print('Tokenizer examples (raw_tokenizer=True): %s%s' % (title, title_break))\n",
    "        for idx, text in enumerate(examples):\n",
    "            pre = '(Ex %d)' % idx\n",
    "            print('%s input: %s' % (pre, text))\n",
    "            output = tokenizer.encode(text)\n",
    "            print('%s output type & output.tokens: %s, %s' % (pre, type(output), output.tokens))\n",
    "            print('%s decode(output.ids): %s' % (pre, tokenizer.decode(output.ids)))\n",
    "\n",
    "            # \"use proper decoder\" https://huggingface.co/docs/tokenizers/python/latest/pipeline.html\n",
    "            print('%s decoder on output.ids: %s' % (pre, tokenizer.decode(output.ids)))\n",
    "            print()\n",
    "    else:\n",
    "        print('Tokenizer examples (raw_tokenizer=False): %s%s' % (title, title_break))\n",
    "        for idx, text in enumerate(examples):\n",
    "            pre = '(Ex %d)' % idx\n",
    "            print('%s input: %s' % (idx, text))\n",
    "            output = tokenizer.encode(text)\n",
    "            print('%s output type & output: %s, %s' % (pre, type(output), output))\n",
    "            print('%s decode w/ no cleanup: %s' %\n",
    "                  (pre, tokenizer.decode(output, clean_up_tokenization_spaces=False)))\n",
    "            print('%s decode w/ cleanup: %s' %\n",
    "                  (pre, tokenizer.decode(output, clean_up_tokenization_spaces=True)))\n",
    "            print()\n",
    "    return"
   ]
  },
  {
   "cell_type": "markdown",
   "id": "4cff0e67",
   "metadata": {},
   "source": [
    "## Example arxiv data"
   ]
  },
  {
   "cell_type": "code",
   "execution_count": 6,
   "id": "021b720f",
   "metadata": {},
   "outputs": [
    {
     "name": "stdout",
     "output_type": "stream",
     "text": [
      ">> Using arxiv_10.csv for training <<\n"
     ]
    }
   ],
   "source": [
    "# download data\n",
    "filename = dl.arxiv_api( default.RAW_DATA_DIR )\n",
    "print(f'>> Using {filename} for training <<')\n",
    "\n",
    "# preprocessing\n",
    "proc_data = dpp.arxiv_preprocess_abstract(default.RAW_DATA_DIR\n",
    "                                , default.PROC_DATA_DIR, filename, True )\n",
    "\n",
    "# convert to list/iterator\n",
    "arxiv_iter = dpp.arxiv_abstract_iterator( proc_data )\n",
    "fname_strip_csv = filename[:-4]\n",
    "arxiv_tknzr = tkn.train_custom_tokenizer('BPE', arxiv_iter, fname_strip_csv, default.TOK_DIR\n",
    "                                , **default.special_token_lst)"
   ]
  },
  {
   "cell_type": "markdown",
   "id": "f0ed1665",
   "metadata": {},
   "source": [
    "## Example wiki"
   ]
  },
  {
   "cell_type": "code",
   "execution_count": 7,
   "id": "a319ab3f",
   "metadata": {},
   "outputs": [
    {
     "name": "stdout",
     "output_type": "stream",
     "text": [
      ">> Using wikitext-103-raw for training <<\n"
     ]
    }
   ],
   "source": [
    "# download : already happened.\n",
    "file_dir = 'wikitext-103-raw'\n",
    "print(f'>> Using {file_dir} for training <<')\n",
    "\n",
    "# preprocessing : None for now\n",
    "\n",
    "# convert to list/iterator\n",
    "wiki_iter = dpp.wiki_iterator( file_dir )\n",
    "fname_strip = file_dir[:-4]\n",
    "\n",
    "wiki_tknzr = tkn.train_custom_tokenizer('BPE', wiki_iter, fname_strip, default.TOK_DIR\n",
    "                                        , **default.special_token_lst)"
   ]
  },
  {
   "cell_type": "markdown",
   "id": "9dd1e830",
   "metadata": {},
   "source": [
    "## Comparing"
   ]
  },
  {
   "cell_type": "code",
   "execution_count": 8,
   "id": "e579bf9a",
   "metadata": {},
   "outputs": [
    {
     "name": "stdout",
     "output_type": "stream",
     "text": [
      "Tokenizer examples (raw_tokenizer=True): trained arxviv BPE\n",
      "****************************************************************\n",
      "(Ex 0) input: Hello, y'all! How are you 😁 ?\n",
      "(Ex 0) output type & output.tokens: <class 'tokenizers.Encoding'>, ['<s>', 'ĠH', 'el', 'lo', ',', 'Ġ', 'y', '<unk>', 'all', '<unk>', 'ĠH', 'ow', 'Ġare', 'Ġ', 'y', 'o', 'u', 'Ġ', '<unk>', '<unk>', '<unk>', '<unk>', 'Ġ', '<unk>', '<\\\\s>']\n",
      "(Ex 0) decode(output.ids): ĠH el lo , Ġ y all ĠH ow Ġare Ġ y o u Ġ Ġ\n",
      "(Ex 0) WordPiece decoder on output.ids: ĠH el lo, Ġ y all ĠH ow Ġare Ġ y o u Ġ Ġ\n",
      "\n",
      "(Ex 1) input: Here is some code spaghetti\n",
      "(Ex 1) output type & output.tokens: <class 'tokenizers.Encoding'>, ['<s>', 'ĠH', 'ere', 'Ġis', 'Ġs', 'om', 'e', 'Ġco', 'de', 'Ġsp', 'a', 'gh', 'et', 't', 'i', '<\\\\s>']\n",
      "(Ex 1) decode(output.ids): ĠH ere Ġis Ġs om e Ġco de Ġsp a gh et t i\n",
      "(Ex 1) WordPiece decoder on output.ids: ĠH ere Ġis Ġs om e Ġco de Ġsp a gh et t i\n",
      "\n",
      "(Ex 2) input: configuration interaction (CI) wave functions is examined\n",
      "(Ex 2) output type & output.tokens: <class 'tokenizers.Encoding'>, ['<s>', 'Ġconfiguration', 'Ġinteraction', 'Ġ(', 'CI', ')', 'Ġwave', 'Ġfunctions', 'Ġis', 'Ġexamined', '<\\\\s>']\n",
      "(Ex 2) decode(output.ids): Ġconfiguration Ġinteraction Ġ( CI ) Ġwave Ġfunctions Ġis Ġexamined\n",
      "(Ex 2) WordPiece decoder on output.ids: Ġconfiguration Ġinteraction Ġ( CI ) Ġwave Ġfunctions Ġis Ġexamined\n",
      "\n",
      "(Ex 3) input: By analogy with the pseudopotential approach for electron-ion interactions\n",
      "(Ex 3) output type & output.tokens: <class 'tokenizers.Encoding'>, ['<s>', 'ĠBy', 'Ġanalogy', 'Ġwith', 'Ġthe', 'Ġp', 'se', 'udop', 'otential', 'Ġapproach', 'Ġfor', 'Ġelectron', '-', 'ion', 'Ġinteractions', '<\\\\s>']\n",
      "(Ex 3) decode(output.ids): ĠBy Ġanalogy Ġwith Ġthe Ġp se udop otential Ġapproach Ġfor Ġelectron - ion Ġinteractions\n",
      "(Ex 3) WordPiece decoder on output.ids: ĠBy Ġanalogy Ġwith Ġthe Ġp se udop otential Ġapproach Ġfor Ġelectron - ion Ġinteractions\n",
      "\n",
      "(Ex 4) input: Welcome to the 🤗 Tokenizers library.\n",
      "(Ex 4) output type & output.tokens: <class 'tokenizers.Encoding'>, ['<s>', 'ĠW', 'el', 'com', 'e', 'Ġto', 'Ġthe', 'Ġ', '<unk>', '<unk>', '<unk>', '<unk>', 'ĠT', 'o', 'k', 'en', 'iz', 'er', 's', 'Ġl', 'ib', 'rary', '.', '<\\\\s>']\n",
      "(Ex 4) decode(output.ids): ĠW el com e Ġto Ġthe Ġ ĠT o k en iz er s Ġl ib rary.\n",
      "(Ex 4) WordPiece decoder on output.ids: ĠW el com e Ġto Ġthe Ġ ĠT o k en iz er s Ġl ib rary.\n",
      "\n",
      "Tokenizer examples (raw_tokenizer=True): trained wiki BPE\n",
      "****************************************************************\n",
      "(Ex 0) input: Hello, y'all! How are you 😁 ?\n",
      "(Ex 0) output type & output.tokens: <class 'tokenizers.Encoding'>, ['<s>', 'Ġ', 'H', 'e', 'l', 'l', 'o', '<unk>', 'Ġ', '<unk>', '<unk>', 'al', 'l', '<unk>', 'Ġ', 'H', 'o', 'w', 'Ġ', 'a', 'r', 'e', 'Ġ', '<unk>', 'o', 'u', 'Ġ', '<unk>', '<unk>', '<unk>', '<unk>', 'Ġ', '<unk>', '<\\\\s>']\n",
      "(Ex 0) decode(output.ids): Ġ H e l l o Ġ al l Ġ H o w Ġ a r e Ġ o u Ġ Ġ\n",
      "(Ex 0) WordPiece decoder on output.ids: Ġ H e l l o Ġ al l Ġ H o w Ġ a r e Ġ o u Ġ Ġ\n",
      "\n",
      "(Ex 1) input: Here is some code spaghetti\n",
      "(Ex 1) output type & output.tokens: <class 'tokenizers.Encoding'>, ['<s>', 'Ġ', 'H', 'e', 'r', 'e', 'Ġ', 'i', 's', 'Ġ', 's', 'o', 'me', 'Ġ', 'c', 'o', 'd', 'e', 'Ġ', 's', '<unk>', 'a', 'g', 'h', 'e', 't', 't', 'i', '<\\\\s>']\n",
      "(Ex 1) decode(output.ids): Ġ H e r e Ġ i s Ġ s o me Ġ c o d e Ġ s a g h e t t i\n",
      "(Ex 1) WordPiece decoder on output.ids: Ġ H e r e Ġ i s Ġ s o me Ġ c o d e Ġ s a g h e t t i\n",
      "\n",
      "(Ex 2) input: configuration interaction (CI) wave functions is examined\n",
      "(Ex 2) output type & output.tokens: <class 'tokenizers.Encoding'>, ['<s>', 'Ġ', 'c', 'o', 'n', '<unk>', 'i', 'g', 'u', 'ra', 't', 'i', 'o', 'n', 'Ġ', 'in', 'te', 'ract', 'i', 'o', 'n', 'Ġ', '<unk>', '<unk>', '<unk>', '<unk>', 'Ġ', 'w', 'a', 'v', 'e', 'Ġ', '<unk>', 'u', 'n', 'ct', 'i', 'o', 'n', 's', 'Ġ', 'i', 's', 'Ġ', 'e', 'x', 'a', 'm', 'in', 'e', 'd', '<\\\\s>']\n",
      "(Ex 2) decode(output.ids): Ġ c o n i g u ra t i o n Ġ in te ract i o n Ġ Ġ w a v e Ġ u n ct i o n s Ġ i s Ġ e x a m in e d\n",
      "(Ex 2) WordPiece decoder on output.ids: Ġ c o n i g u ra t i o n Ġ in te ract i o n Ġ Ġ w a v e Ġ u n ct i o n s Ġ i s Ġ e x a m in e d\n",
      "\n",
      "(Ex 3) input: By analogy with the pseudopotential approach for electron-ion interactions\n",
      "(Ex 3) output type & output.tokens: <class 'tokenizers.Encoding'>, ['<s>', 'Ġ', 'B', '<unk>', 'Ġ', 'a', 'n', 'al', 'o', 'g', '<unk>', 'Ġ', 'w', 'i', 't', 'h', 'Ġ', 't', 'h', 'e', 'Ġ', '<unk>', 's', 'e', 'u', 'd', 'o', '<unk>', 'ot', 'en', 't', 'i', 'al', 'Ġ', 'a', '<unk>', '<unk>', 'r', 'o', 'a', 'ch', 'Ġ', '<unk>', 'or', 'Ġ', 'e', 'l', 'e', 'ct', 'r', 'o', 'n', '-', 'i', 'o', 'n', 'Ġ', 'in', 'te', 'ract', 'i', 'o', 'n', 's', '<\\\\s>']\n",
      "(Ex 3) decode(output.ids): Ġ B Ġ a n al o g Ġ w i t h Ġ t h e Ġ s e u d o ot en t i al Ġ a r o a ch Ġ or Ġ e l e ct r o n - i o n Ġ in te ract i o n s\n",
      "(Ex 3) WordPiece decoder on output.ids: Ġ B Ġ a n al o g Ġ w i t h Ġ t h e Ġ s e u d o ot en t i al Ġ a r o a ch Ġ or Ġ e l e ct r o n - i o n Ġ in te ract i o n s\n",
      "\n",
      "(Ex 4) input: Welcome to the 🤗 Tokenizers library.\n",
      "(Ex 4) output type & output.tokens: <class 'tokenizers.Encoding'>, ['<s>', 'Ġ', '<unk>', 'e', 'l', 'c', 'o', 'me', 'Ġ', 't', 'o', 'Ġ', 't', 'h', 'e', 'Ġ', '<unk>', '<unk>', '<unk>', '<unk>', 'Ġ', 'T', 'o', 'k', 'en', 'i', '<unk>', 'e', 'r', 's', 'Ġ', 'l', 'i', 'b', 'ra', 'r', '<unk>', '.', '<\\\\s>']\n",
      "(Ex 4) decode(output.ids): Ġ e l c o me Ġ t o Ġ t h e Ġ Ġ T o k en i e r s Ġ l i b ra r.\n",
      "(Ex 4) WordPiece decoder on output.ids: Ġ e l c o me Ġ t o Ġ t h e Ġ Ġ T o k en i e r s Ġ l i b ra r.\n",
      "\n"
     ]
    }
   ],
   "source": [
    "tokenizer_examples(arxiv_tknzr, raw_tokenizer=True, title='trained arxviv BPE')\n",
    "tokenizer_examples(wiki_tknzr, raw_tokenizer=True, title='trained wiki BPE')"
   ]
  },
  {
   "cell_type": "markdown",
   "id": "3c222d89",
   "metadata": {},
   "source": [
    "## Fast and Bert Tokenizer"
   ]
  },
  {
   "cell_type": "code",
   "execution_count": 64,
   "id": "37fe6793",
   "metadata": {},
   "outputs": [
    {
     "name": "stdout",
     "output_type": "stream",
     "text": [
      "['Electron', 'temperature', 'anisotropies', 'and', 'electron', 'beams', 'are', 'nonthermal', 'features', 'of', 'the', 'observed', 'nonequilibrium', 'electron', 'velocity', 'distributions', 'in', 'the', 'solar', 'wind.', 'In', 'collision-poor', 'plasmas', 'these', 'nonequilibrium', 'distributions', 'are', 'expected', 'to', 'be', 'regulated', 'by', 'kinetic', 'instabilities', 'through', 'wave-particle', 'interactions.', 'This', 'study', 'considers', 'electron', 'instabilities', 'driven', 'by', 'the', 'interplay', 'of', 'core', 'electron', 'temperature', 'anisotropies', 'and', 'the', 'electron', 'beam,', 'and', 'firstly', 'gives', 'a', 'comprehensive', 'analysis', 'of', 'instabilities', 'in', 'arbitrary', 'directions', 'to', 'the', 'background', 'magnetic', 'field.', 'It', 'clarifies', 'the', 'dominant', 'parameter', 'regime', '(e.g.,', 'parallel', 'core', 'electron', 'plasma', 'beta', '$\\\\beta_{\\\\mathrm{ec\\\\parallel}}$,', 'core', 'electron', 'temperature', 'anisotropy', '$A_{\\\\mathrm{ec}}\\\\equiv', 'T_{\\\\mathrm{ec\\\\perp}}/T_{\\\\mathrm{ec\\\\parallel}}$,', 'and', 'electron', 'beam', 'velocity', '$V_{\\\\mathrm{eb}}$)', 'for', 'each', 'kind', 'of', 'electron', 'instability', '(e.g.,', 'the', 'electron', 'beam-driven', 'electron', 'acoustic/magnetoacoustic', 'instability,', 'the', 'electron', 'beam-driven', 'whistler', 'instability,', 'the', 'electromagnetic', 'electron', 'cyclotron', 'instability,', 'the', 'electron', 'mirror', 'instability,', 'the', 'electron', 'firehose', 'instability,', 'and', 'the', 'ordinary-mode', 'instability).', 'It', 'finds', 'that', 'the', 'electron', 'beam', 'can', 'destabilize', 'electron', 'acoustic/magnetoacoustic', 'waves', 'in', 'the', 'low-$\\\\beta_{\\\\mathrm{ec\\\\parallel}}$', 'regime,', 'and', 'whistler', 'waves', 'in', 'the', 'medium-', 'and', 'large-$\\\\beta_{\\\\mathrm{ec\\\\parallel}}$', 'regime.', 'It', 'also', 'finds', 'that', 'a', 'new', 'oblique', 'fast-magnetosonic/whistler', 'instability', 'is', 'driven', 'by', 'the', 'electron', 'beam', 'with', '$V_{\\\\mathrm{eb}}\\\\gtrsim7V_{\\\\mathrm{A}}$', 'in', 'a', 'regime', 'where', '$\\\\beta_{\\\\mathrm{ec\\\\parallel}}\\\\sim0.1-2$', 'and', '$A_{\\\\mathrm{ec}}<1$.', 'Moreover,', 'this', 'study', 'presents', 'electromagnetic', 'responses', 'of', 'each', 'kind', 'of', 'electron', 'instability.', 'These', 'results', 'provide', 'a', 'comprehensive', 'overview', 'for', 'electron', 'instability', 'constraints', 'on', 'core', 'electron', 'temperature', 'anisotropies', 'and', 'electron', 'beams', 'in', 'the', 'solar', 'wind.']\n"
     ]
    }
   ],
   "source": [
    "from transformers import PreTrainedTokenizerFast\n",
    "\n",
    "\n",
    "\n",
    "# For now\n",
    "from tokenizers import BertWordPieceTokenizer\n"
   ]
  },
  {
   "cell_type": "markdown",
   "id": "8cc553cb",
   "metadata": {},
   "source": [
    "## Tokenizer"
   ]
  },
  {
   "cell_type": "code",
   "execution_count": 78,
   "id": "b608bb02",
   "metadata": {},
   "outputs": [],
   "source": [
    "from tokenizers import Tokenizer, normalizers, pre_tokenizers, decoders, processors\n",
    "from tokenizers.models import BPE, Unigram, WordLevel, WordPiece\n",
    "from tokenizers.normalizers import NFD, NFKD, NFC, NFKC, Lowercase, StripAccents\n",
    "from tokenizers.pre_tokenizers import ByteLevel, Whitespace, WhitespaceSplit, Punctuation, Metaspace,\\\n",
    "                                        CharDelimiterSplit\n",
    "from tokenizers.trainers import BpeTrainer, UnigramTrainer, WordPieceTrainer, WordLevelTrainer\n",
    "from pathlib import Path\n",
    "\n",
    "#from transformers import PreTrainedTokenizerFast, PreTrainedTokenizer"
   ]
  },
  {
   "cell_type": "code",
   "execution_count": 66,
   "id": "d6ec172d",
   "metadata": {},
   "outputs": [],
   "source": [
    "bos_token = \"<s>\"\n",
    "pad_token = \"<pad>\"\n",
    "eos_token = \"</s>\"\n",
    "unk_token = \"<unk>\"\n",
    "mask_token = \"<mask>\"\n",
    "\n",
    "special_token_list = [bos_token, pad_token, eos_token, unk_token, mask_token]\n",
    "\n",
    "class BPE_token(object):\n",
    "    def __init__(self):\n",
    "        # instantiate\n",
    "        self.tokenizer = Tokenizer(BPE())\n",
    "        \n",
    "        # normalization\n",
    "        self.tokenizer.normalizer = Sequence([\n",
    "            NFKC()\n",
    "        ])\n",
    "        \n",
    "        # pre-tokenizer\n",
    "        self.tokenizer.pre_tokenizer = ByteLevel()\n",
    "        \n",
    "        # decoder\n",
    "        self.tokenizer.decoder = ByteLevelDecoder()\n",
    "\n",
    "    def bpe_train(self, iterator):\n",
    "        trainer = BpeTrainer(vocab_size=50000, show_progress=True, inital_alphabet=ByteLevel.alphabet()\n",
    "                                             , special_tokens=special_token_list)\n",
    "        self.tokenizer.train_from_iterator(trainer=trainer, iterator=iterator) # paths is iterator\n",
    "\n",
    "    def save_tokenizer(self, location, prefix=None):\n",
    "        if not os.path.exists(location):\n",
    "            os.makedirs(location)\n",
    "        self.tokenizer.model.save(location, prefix)"
   ]
  },
  {
   "cell_type": "code",
   "execution_count": 81,
   "id": "8f40d90c",
   "metadata": {},
   "outputs": [],
   "source": [
    "def train_custom_tokenizer(token_model, data_iterator, token_dir, token_filename, vocab_size=30000, vocab=None\n",
    "                          , max_input_chars_per_word=None):\n",
    "    \"\"\"\n",
    "    Building a Tokenizer using HuggingFace library. The pipeline seems to be:\n",
    "    \n",
    "        - Model           : algorithm that tokenizes, it is a mandatory component. There are\n",
    "                            only 4 models implemented (BPE, Unigram, WordLevel, WordPiece)\n",
    "        - Normalizer      : some preprocessing that could happen before, but doesn't necessarily\n",
    "        - Pre-Tokenizer   : splitting the input according to some rules\n",
    "        - Post-Processing : needing to add some tokens/input after (mostly seems to be eos\n",
    "                            , bos tokens)\n",
    "        - Decoder         : certain previous pipeline steps need to be reversed for proper\n",
    "                            decoding\n",
    "        - Trainer         : The corresponding training algorithm for the model\n",
    "    \n",
    "    Note : Some pre-processing might need to happen beforehand in previous functions (might\n",
    "            be easier using pandas)\n",
    "    \n",
    "    Input\n",
    "        token_model              : algorithm to use for tokenization\n",
    "        data_iterator            : a python iterator that goes through the data to be used for \n",
    "                                    training\n",
    "        token_dir                : directory with tokenizers\n",
    "        vocab_size               : size of the vocabulary to use\n",
    "        token_filename           : filename of particular token we want to train. Will overwrite\n",
    "                                    previously save files.\n",
    "        vocab                    : models other than BPE can use non-mandatory vocab as input\n",
    "        max_input_chars_per_word : used for WordPiece\n",
    "        \n",
    "    Output\n",
    "        tokenizer                : huggingFace Tokenizer object, our fully trainer tokenizer\n",
    "            \n",
    "    \"\"\"\n",
    "    special_token_lst = [unk_token, bos_token, eos_token, pad_token, mask_token]\n",
    "    \n",
    "    normalizer_lst = [NFKC()]; pre_tokenizer_lst = [ByteLevel()]; decoder_lst = []\n",
    "    \n",
    "    bos_idx = special_token_list.index(bos_token); eos_idx = special_token_list.index(eos_token)\n",
    "    \n",
    "    if token_model == 'BPE':\n",
    "        model   = BPE(unk_token=unk_token) \n",
    "        Trainer = BpeTrainer\n",
    "    elif token_model == 'Unigram':\n",
    "        model   = Unigram(vocab=vocab) \n",
    "        Trainer = UnigramTrainer\n",
    "    elif token_model == 'WordLevel':\n",
    "        model   = WordLevel(unk_token=unk_token,vocab=vocab)\n",
    "        Trainer = WordLevelTrainer\n",
    "    elif token_model == 'WordPiece':\n",
    "        model   = WordPiece(unk_token=unk_token,vocab=vocab, max_input_chars_per_word=max_input_chars_per_word)\n",
    "        Trainer = WordPieceTrainer\n",
    "        decoder_lst.append( decoders.WordPiece())\n",
    "    else:\n",
    "        error_msg = f'Error: token_model ({token_model}) not an algorithm in [BPE, Unigram, WordLevel, WordPiece]'\n",
    "        raise SystemExit(error_msg)       \n",
    "    \n",
    "    # instantiation\n",
    "    tokenizer = Tokenizer(model)\n",
    "    \n",
    "    # trainer \n",
    "    trainer = Trainer(vocab_size=vocab_size, show_progress=True, special_tokens=special_tokens_lst)\n",
    "    \n",
    "    # normalizer\n",
    "    tokenizer.normalizer = normalizers.Sequence( normalizer_lst )\n",
    "    \n",
    "    # pre-tokenizer\n",
    "    tokenizer.pre_tokenizer = pre_tokenizers.Sequence( pre_tokenizer_lst )\n",
    "    \n",
    "    # post-processing\n",
    "    tokenizer.post_processor = processors.TemplateProcessing( single=bos_token+\" $A \"+eos_token\n",
    "                                                    #, pair=bos_token+\" $A \"+eos_token\" $B:1 \"+eos_token+\":1\"\n",
    "                                                    , special_tokens=[(bos_token, bos_idx),(eos_token, eos_idx)]\n",
    "                                                    )\n",
    "    \n",
    "    # decoder\n",
    "    if ByteLevel() in pre_tokenizer_lst: decoder_lst.append( decoders.ByteLevel() )\n",
    "    if Metaspace() in pre_tokenizer_lst: decoder_lst.append( decoders.Metaspace() ) \n",
    "    tokenizer.decoder = decoders.Sequence( decoder_lst )\n",
    "\n",
    "    tokenizer.train_from_iterator(trainer=trainer, iterator=data_iterator)\n",
    "    \n",
    "    if not os.path.exists( token_dir ):\n",
    "        os.makedirs( token_dir )\n",
    "    if os.path.exists( token_dir + os.sep + token_filename ):\n",
    "        print(f\"Warning : overwriting previously save tokenizer with same filename ( {token_filename} ).\")\n",
    "    tokenizer.save( token_dir + os.sep + token_filename )\n",
    "        \n",
    "    # TODO : Should I add PreTrained and Fast Tokenizer here? Seems like it might be appropriate.\n",
    "    transformer = False; fast = False\n",
    "    function_from_transformer_todo = None\n",
    "    if transformer:\n",
    "        raise SystemExit(\"HuggingFace transformers library not yet implemented here!\")\n",
    "        if fast: tokenizer = function_from_transformer_todo\n",
    "        else: tokenizer = function_from_transformer_todo\n",
    "                  \n",
    "    return tokenizer\n",
    "    \n",
    "    \n",
    "def load_custom_tokenizer(token_dir, token_filename, transformer=False, fast=False):\n",
    "    \"\"\"\n",
    "    Input\n",
    "        token_dir      : directory with tokenizers saved\n",
    "        token_filename : trained tokenizer that we want to load\n",
    "        transformer    : (bool) whether to use HuggingFace transformers library implementation\n",
    "        fast           : (bool) whether to use HuggingFace transformers fast implementation\n",
    "    Output\n",
    "        tokenizer      : tokenizer from Tokenizer class to be passed to rest of algorithm\n",
    "    \"\"\"\n",
    "    tokenizer = Tokenizer.from_file(token_dir + os.sep + token_filename)\n",
    "    \n",
    "    function_from_transformer_todo = None\n",
    "    if function_from_transformer != None:\n",
    "        if transformer:\n",
    "            raise SystemExit(\"HuggingFace transformers library not yet implemented here!\")\n",
    "            if fast: tokenizer = function_from_transformer_todo\n",
    "            else: tokenizer = function_from_transformer_todo\n",
    "    \n",
    "    return tokenizer"
   ]
  },
  {
   "cell_type": "code",
   "execution_count": 68,
   "id": "b8335eac",
   "metadata": {},
   "outputs": [
    {
     "name": "stdout",
     "output_type": "stream",
     "text": [
      "[0, 1536, 244, 594, 115, 94, 745, 201, 1529, 1470, 108, 93, 589, 832, 94, 830, 834, 101, 93, 523, 701, 11, 441, 1460, 10, 947, 1276, 516, 832, 834, 201, 1380, 143, 159, 1211, 203, 827, 564, 809, 383, 10, 735, 333, 11, 730, 822, 1351, 94, 564, 697, 203, 93, 820, 108, 419, 94, 244, 594, 115, 93, 94, 240, 9, 115, 1467, 1200, 88, 826, 1336, 108, 564, 101, 1447, 1401, 143, 93, 815, 1106, 343, 11, 442, 1539, 93, 1399, 1528, 342, 209, 56, 11, 58, 608, 781, 419, 94, 586, 1076, 438, 395, 215, 214, 78, 246, 49, 382, 765, 419, 94, 244, 1304, 188, 26, 215, 214, 78, 246, 569, 1305, 156, 215, 214, 78, 246, 49, 1162, 1188, 43, 215, 214, 78, 246, 49, 382, 765, 115, 94, 240, 830, 188, 45, 215, 214, 78, 623, 1257, 139, 542, 754, 108, 94, 224, 209, 56, 11, 58, 608, 93, 94, 240, 10, 622, 94, 670, 12, 784, 224, 9, 93, 94, 240, 10, 622, 749, 224, 9, 93, 806, 94, 1463, 224, 9, 93, 94, 1479, 224, 9, 93, 94, 1514, 224, 9, 115, 93, 1513, 10, 1425, 224, 839, 442, 772, 189, 93, 94, 240, 323, 1507, 94, 670, 12, 784, 758, 101, 93, 432, 607, 395, 215, 214, 78, 246, 49, 382, 340, 342, 9, 115, 749, 758, 101, 93, 1111, 10, 115, 550, 607, 395, 215, 214, 78, 246, 49, 382, 340, 342, 11, 442, 1218, 772, 189, 88, 1255, 1509, 1073, 10, 1530, 12, 978, 224, 145, 697, 203, 93, 94, 240, 181, 188, 45, 215, 214, 78, 623, 569, 1420, 20, 45, 215, 214, 78, 26, 340, 101, 88, 342, 748, 438, 395, 215, 214, 78, 246, 49, 382, 569, 497, 13, 11, 14, 10, 15, 5, 115, 188, 26, 215, 214, 78, 246, 1189, 14, 837, 1243, 9, 269, 822, 1274, 806, 1349, 108, 542, 754, 108, 94, 224, 11, 1171, 1390, 1516, 88, 826, 1320, 139, 94, 224, 1493, 249, 419, 94, 244, 594, 115, 94, 745, 101, 93, 523, 701, 11, 2]\n",
      "['<s>', 'ĠElectron', 'Ġtemperature', 'Ġanisotropies', 'Ġand', 'Ġelectron', 'Ġbeams', 'Ġare', 'Ġnonthermal', 'Ġfeatures', 'Ġof', 'Ġthe', 'Ġobserved', 'Ġnonequilibrium', 'Ġelectron', 'Ġvelocity', 'Ġdistributions', 'Ġin', 'Ġthe', 'Ġsolar', 'Ġwind', '.', 'ĠIn', 'Ġcollision', '-', 'poor', 'Ġplasmas', 'Ġthese', 'Ġnonequilibrium', 'Ġdistributions', 'Ġare', 'Ġexpected', 'Ġto', 'Ġbe', 'Ġregulated', 'Ġby', 'Ġkinetic', 'Ġinstabilities', 'Ġthrough', 'Ġwave', '-', 'particle', 'Ġinteractions', '.', 'ĠThis', 'Ġstudy', 'Ġconsiders', 'Ġelectron', 'Ġinstabilities', 'Ġdriven', 'Ġby', 'Ġthe', 'Ġinterplay', 'Ġof', 'Ġcore', 'Ġelectron', 'Ġtemperature', 'Ġanisotropies', 'Ġand', 'Ġthe', 'Ġelectron', 'Ġbeam', ',', 'Ġand', 'Ġfirstly', 'Ġgives', 'Ġa', 'Ġcomprehensive', 'Ġanalysis', 'Ġof', 'Ġinstabilities', 'Ġin', 'Ġarbitrary', 'Ġdirections', 'Ġto', 'Ġthe', 'Ġbackground', 'Ġmagnetic', 'Ġfield', '.', 'ĠIt', 'Ġclarifies', 'Ġthe', 'Ġdominant', 'Ġparameter', 'Ġregime', 'Ġ(', 'e', '.', 'g', '.,', 'Ġparallel', 'Ġcore', 'Ġelectron', 'Ġplasma', 'Ġbeta', 'Ġ$\\\\', 'beta', '_{\\\\', 'mathrm', '{', 'ec', '\\\\', 'parallel', '}}$,', 'Ġcore', 'Ġelectron', 'Ġtemperature', 'Ġanisotropy', 'Ġ$', 'A', '_{\\\\', 'mathrm', '{', 'ec', '}}\\\\', 'equiv', 'ĠT', '_{\\\\', 'mathrm', '{', 'ec', '\\\\', 'perp', '}}/', 'T', '_{\\\\', 'mathrm', '{', 'ec', '\\\\', 'parallel', '}}$,', 'Ġand', 'Ġelectron', 'Ġbeam', 'Ġvelocity', 'Ġ$', 'V', '_{\\\\', 'mathrm', '{', 'eb', '}}$)', 'Ġfor', 'Ġeach', 'Ġkind', 'Ġof', 'Ġelectron', 'Ġinstability', 'Ġ(', 'e', '.', 'g', '.,', 'Ġthe', 'Ġelectron', 'Ġbeam', '-', 'driven', 'Ġelectron', 'Ġacoustic', '/', 'magnetoacoustic', 'Ġinstability', ',', 'Ġthe', 'Ġelectron', 'Ġbeam', '-', 'driven', 'Ġwhistler', 'Ġinstability', ',', 'Ġthe', 'Ġelectromagnetic', 'Ġelectron', 'Ġcyclotron', 'Ġinstability', ',', 'Ġthe', 'Ġelectron', 'Ġmirror', 'Ġinstability', ',', 'Ġthe', 'Ġelectron', 'Ġfirehose', 'Ġinstability', ',', 'Ġand', 'Ġthe', 'Ġordinary', '-', 'mode', 'Ġinstability', ').', 'ĠIt', 'Ġfinds', 'Ġthat', 'Ġthe', 'Ġelectron', 'Ġbeam', 'Ġcan', 'Ġdestabilize', 'Ġelectron', 'Ġacoustic', '/', 'magnetoacoustic', 'Ġwaves', 'Ġin', 'Ġthe', 'Ġlow', '-$\\\\', 'beta', '_{\\\\', 'mathrm', '{', 'ec', '\\\\', 'parallel', '}}$', 'Ġregime', ',', 'Ġand', 'Ġwhistler', 'Ġwaves', 'Ġin', 'Ġthe', 'Ġmedium', '-', 'Ġand', 'Ġlarge', '-$\\\\', 'beta', '_{\\\\', 'mathrm', '{', 'ec', '\\\\', 'parallel', '}}$', 'Ġregime', '.', 'ĠIt', 'Ġalso', 'Ġfinds', 'Ġthat', 'Ġa', 'Ġnew', 'Ġoblique', 'Ġfast', '-', 'magnetosonic', '/', 'whistler', 'Ġinstability', 'Ġis', 'Ġdriven', 'Ġby', 'Ġthe', 'Ġelectron', 'Ġbeam', 'Ġwith', 'Ġ$', 'V', '_{\\\\', 'mathrm', '{', 'eb', '}}\\\\', 'gtrsim', '7', 'V', '_{\\\\', 'mathrm', '{', 'A', '}}$', 'Ġin', 'Ġa', 'Ġregime', 'Ġwhere', 'Ġ$\\\\', 'beta', '_{\\\\', 'mathrm', '{', 'ec', '\\\\', 'parallel', '}}\\\\', 'sim', '0', '.', '1', '-', '2', '$', 'Ġand', 'Ġ$', 'A', '_{\\\\', 'mathrm', '{', 'ec', '}}<', '1', '$.', 'ĠMoreover', ',', 'Ġthis', 'Ġstudy', 'Ġpresents', 'Ġelectromagnetic', 'Ġresponses', 'Ġof', 'Ġeach', 'Ġkind', 'Ġof', 'Ġelectron', 'Ġinstability', '.', 'ĠThese', 'Ġresults', 'Ġprovide', 'Ġa', 'Ġcomprehensive', 'Ġoverview', 'Ġfor', 'Ġelectron', 'Ġinstability', 'Ġconstraints', 'Ġon', 'Ġcore', 'Ġelectron', 'Ġtemperature', 'Ġanisotropies', 'Ġand', 'Ġelectron', 'Ġbeams', 'Ġin', 'Ġthe', 'Ġsolar', 'Ġwind', '.', '</s>']\n",
      " Electron temperature anisotropies and electron beams are nonthermal features of the observed nonequilibrium electron velocity distributions in the solar wind. In collision-poor plasmas these nonequilibrium distributions are expected to be regulated by kinetic instabilities through wave-particle interactions. This study considers electron instabilities driven by the interplay of core electron temperature anisotropies and the electron beam, and firstly gives a comprehensive analysis of instabilities in arbitrary directions to the background magnetic field. It clarifies the dominant parameter regime (e.g., parallel core electron plasma beta $\\beta_{\\mathrm{ec\\parallel}}$, core electron temperature anisotropy $A_{\\mathrm{ec}}\\equiv T_{\\mathrm{ec\\perp}}/T_{\\mathrm{ec\\parallel}}$, and electron beam velocity $V_{\\mathrm{eb}}$) for each kind of electron instability (e.g., the electron beam-driven electron acoustic/magnetoacoustic instability, the electron beam-driven whistler instability, the electromagnetic electron cyclotron instability, the electron mirror instability, the electron firehose instability, and the ordinary-mode instability). It finds that the electron beam can destabilize electron acoustic/magnetoacoustic waves in the low-$\\beta_{\\mathrm{ec\\parallel}}$ regime, and whistler waves in the medium- and large-$\\beta_{\\mathrm{ec\\parallel}}$ regime. It also finds that a new oblique fast-magnetosonic/whistler instability is driven by the electron beam with $V_{\\mathrm{eb}}\\gtrsim7V_{\\mathrm{A}}$ in a regime where $\\beta_{\\mathrm{ec\\parallel}}\\sim0.1-2$ and $A_{\\mathrm{ec}}<1$. Moreover, this study presents electromagnetic responses of each kind of electron instability. These results provide a comprehensive overview for electron instability constraints on core electron temperature anisotropies and electron beams in the solar wind.\n"
     ]
    }
   ],
   "source": [
    "# the folder 'text' contains all the files\n",
    "data_iter = iter(raw_data.summary.tolist())\n",
    "\n",
    "tokenizer = BPE_token()\n",
    "\n",
    "# train the tokenizer model\n",
    "tokenizer.bpe_train(data_iter)\n",
    "\n",
    "# saving the tokenized data in our specified folder \n",
    "save_path = 'tokenized_data'\n",
    "tokenizer.save_tokenizer(save_path)\n",
    "\n",
    "string_tokenized = tokenizer.tokenizer.encode(bos_token + ex_abstract + eos_token )\n",
    "decoded = tokenizer.tokenizer.decode(string_tokenized.ids)\n",
    "print(string_tokenized.ids)\n",
    "print(string_tokenized.tokens)\n",
    "print(decoded)"
   ]
  },
  {
   "cell_type": "code",
   "execution_count": null,
   "id": "a1d0486e",
   "metadata": {},
   "outputs": [],
   "source": []
  }
 ],
 "metadata": {
  "kernelspec": {
   "display_name": "Python 3",
   "language": "python",
   "name": "python3"
  },
  "language_info": {
   "codemirror_mode": {
    "name": "ipython",
    "version": 3
   },
   "file_extension": ".py",
   "mimetype": "text/x-python",
   "name": "python",
   "nbconvert_exporter": "python",
   "pygments_lexer": "ipython3",
   "version": "3.6.9"
  }
 },
 "nbformat": 4,
 "nbformat_minor": 5
}
